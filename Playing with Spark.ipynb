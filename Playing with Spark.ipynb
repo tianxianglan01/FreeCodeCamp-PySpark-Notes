{
 "cells": [
  {
   "cell_type": "code",
   "execution_count": 1,
   "id": "51756f78",
   "metadata": {},
   "outputs": [],
   "source": [
    "import pyspark\n",
    "import pandas as pd"
   ]
  },
  {
   "cell_type": "code",
   "execution_count": 2,
   "id": "09d466b8",
   "metadata": {},
   "outputs": [
    {
     "data": {
      "text/html": [
       "<div>\n",
       "<style scoped>\n",
       "    .dataframe tbody tr th:only-of-type {\n",
       "        vertical-align: middle;\n",
       "    }\n",
       "\n",
       "    .dataframe tbody tr th {\n",
       "        vertical-align: top;\n",
       "    }\n",
       "\n",
       "    .dataframe thead th {\n",
       "        text-align: right;\n",
       "    }\n",
       "</style>\n",
       "<table border=\"1\" class=\"dataframe\">\n",
       "  <thead>\n",
       "    <tr style=\"text-align: right;\">\n",
       "      <th></th>\n",
       "      <th>Q1A</th>\n",
       "      <th>Q1I</th>\n",
       "      <th>Q1E</th>\n",
       "      <th>Q2A</th>\n",
       "      <th>Q2I</th>\n",
       "      <th>Q2E</th>\n",
       "      <th>Q3A</th>\n",
       "      <th>Q3I</th>\n",
       "      <th>Q3E</th>\n",
       "      <th>Q4A</th>\n",
       "      <th>...</th>\n",
       "      <th>screensize</th>\n",
       "      <th>uniquenetworklocation</th>\n",
       "      <th>hand</th>\n",
       "      <th>religion</th>\n",
       "      <th>orientation</th>\n",
       "      <th>race</th>\n",
       "      <th>voted</th>\n",
       "      <th>married</th>\n",
       "      <th>familysize</th>\n",
       "      <th>major</th>\n",
       "    </tr>\n",
       "  </thead>\n",
       "  <tbody>\n",
       "    <tr>\n",
       "      <th>0</th>\n",
       "      <td>4</td>\n",
       "      <td>28</td>\n",
       "      <td>3890</td>\n",
       "      <td>4</td>\n",
       "      <td>25</td>\n",
       "      <td>2122</td>\n",
       "      <td>2</td>\n",
       "      <td>16</td>\n",
       "      <td>1944</td>\n",
       "      <td>4</td>\n",
       "      <td>...</td>\n",
       "      <td>1</td>\n",
       "      <td>1</td>\n",
       "      <td>1</td>\n",
       "      <td>12</td>\n",
       "      <td>1</td>\n",
       "      <td>10</td>\n",
       "      <td>2</td>\n",
       "      <td>1</td>\n",
       "      <td>2</td>\n",
       "      <td>NaN</td>\n",
       "    </tr>\n",
       "    <tr>\n",
       "      <th>1</th>\n",
       "      <td>4</td>\n",
       "      <td>2</td>\n",
       "      <td>8118</td>\n",
       "      <td>1</td>\n",
       "      <td>36</td>\n",
       "      <td>2890</td>\n",
       "      <td>2</td>\n",
       "      <td>35</td>\n",
       "      <td>4777</td>\n",
       "      <td>3</td>\n",
       "      <td>...</td>\n",
       "      <td>2</td>\n",
       "      <td>1</td>\n",
       "      <td>2</td>\n",
       "      <td>7</td>\n",
       "      <td>0</td>\n",
       "      <td>70</td>\n",
       "      <td>2</td>\n",
       "      <td>1</td>\n",
       "      <td>4</td>\n",
       "      <td>NaN</td>\n",
       "    </tr>\n",
       "    <tr>\n",
       "      <th>2</th>\n",
       "      <td>3</td>\n",
       "      <td>7</td>\n",
       "      <td>5784</td>\n",
       "      <td>1</td>\n",
       "      <td>33</td>\n",
       "      <td>4373</td>\n",
       "      <td>4</td>\n",
       "      <td>41</td>\n",
       "      <td>3242</td>\n",
       "      <td>1</td>\n",
       "      <td>...</td>\n",
       "      <td>2</td>\n",
       "      <td>1</td>\n",
       "      <td>1</td>\n",
       "      <td>4</td>\n",
       "      <td>3</td>\n",
       "      <td>60</td>\n",
       "      <td>1</td>\n",
       "      <td>1</td>\n",
       "      <td>3</td>\n",
       "      <td>NaN</td>\n",
       "    </tr>\n",
       "    <tr>\n",
       "      <th>3</th>\n",
       "      <td>2</td>\n",
       "      <td>23</td>\n",
       "      <td>5081</td>\n",
       "      <td>3</td>\n",
       "      <td>11</td>\n",
       "      <td>6837</td>\n",
       "      <td>2</td>\n",
       "      <td>37</td>\n",
       "      <td>5521</td>\n",
       "      <td>1</td>\n",
       "      <td>...</td>\n",
       "      <td>2</td>\n",
       "      <td>1</td>\n",
       "      <td>2</td>\n",
       "      <td>4</td>\n",
       "      <td>5</td>\n",
       "      <td>70</td>\n",
       "      <td>2</td>\n",
       "      <td>1</td>\n",
       "      <td>5</td>\n",
       "      <td>biology</td>\n",
       "    </tr>\n",
       "    <tr>\n",
       "      <th>4</th>\n",
       "      <td>2</td>\n",
       "      <td>36</td>\n",
       "      <td>3215</td>\n",
       "      <td>2</td>\n",
       "      <td>13</td>\n",
       "      <td>7731</td>\n",
       "      <td>3</td>\n",
       "      <td>5</td>\n",
       "      <td>4156</td>\n",
       "      <td>4</td>\n",
       "      <td>...</td>\n",
       "      <td>2</td>\n",
       "      <td>2</td>\n",
       "      <td>3</td>\n",
       "      <td>10</td>\n",
       "      <td>1</td>\n",
       "      <td>10</td>\n",
       "      <td>2</td>\n",
       "      <td>1</td>\n",
       "      <td>4</td>\n",
       "      <td>Psychology</td>\n",
       "    </tr>\n",
       "    <tr>\n",
       "      <th>...</th>\n",
       "      <td>...</td>\n",
       "      <td>...</td>\n",
       "      <td>...</td>\n",
       "      <td>...</td>\n",
       "      <td>...</td>\n",
       "      <td>...</td>\n",
       "      <td>...</td>\n",
       "      <td>...</td>\n",
       "      <td>...</td>\n",
       "      <td>...</td>\n",
       "      <td>...</td>\n",
       "      <td>...</td>\n",
       "      <td>...</td>\n",
       "      <td>...</td>\n",
       "      <td>...</td>\n",
       "      <td>...</td>\n",
       "      <td>...</td>\n",
       "      <td>...</td>\n",
       "      <td>...</td>\n",
       "      <td>...</td>\n",
       "      <td>...</td>\n",
       "    </tr>\n",
       "    <tr>\n",
       "      <th>39770</th>\n",
       "      <td>2</td>\n",
       "      <td>31</td>\n",
       "      <td>3287</td>\n",
       "      <td>1</td>\n",
       "      <td>5</td>\n",
       "      <td>2216</td>\n",
       "      <td>3</td>\n",
       "      <td>29</td>\n",
       "      <td>3895</td>\n",
       "      <td>2</td>\n",
       "      <td>...</td>\n",
       "      <td>2</td>\n",
       "      <td>1</td>\n",
       "      <td>1</td>\n",
       "      <td>2</td>\n",
       "      <td>4</td>\n",
       "      <td>60</td>\n",
       "      <td>2</td>\n",
       "      <td>1</td>\n",
       "      <td>2</td>\n",
       "      <td>NaN</td>\n",
       "    </tr>\n",
       "    <tr>\n",
       "      <th>39771</th>\n",
       "      <td>3</td>\n",
       "      <td>14</td>\n",
       "      <td>4792</td>\n",
       "      <td>4</td>\n",
       "      <td>41</td>\n",
       "      <td>2604</td>\n",
       "      <td>3</td>\n",
       "      <td>15</td>\n",
       "      <td>2668</td>\n",
       "      <td>4</td>\n",
       "      <td>...</td>\n",
       "      <td>1</td>\n",
       "      <td>1</td>\n",
       "      <td>1</td>\n",
       "      <td>10</td>\n",
       "      <td>0</td>\n",
       "      <td>10</td>\n",
       "      <td>2</td>\n",
       "      <td>1</td>\n",
       "      <td>4</td>\n",
       "      <td>Mathematic</td>\n",
       "    </tr>\n",
       "    <tr>\n",
       "      <th>39772</th>\n",
       "      <td>2</td>\n",
       "      <td>1</td>\n",
       "      <td>25147</td>\n",
       "      <td>1</td>\n",
       "      <td>4</td>\n",
       "      <td>4555</td>\n",
       "      <td>2</td>\n",
       "      <td>14</td>\n",
       "      <td>3388</td>\n",
       "      <td>1</td>\n",
       "      <td>...</td>\n",
       "      <td>2</td>\n",
       "      <td>1</td>\n",
       "      <td>1</td>\n",
       "      <td>7</td>\n",
       "      <td>1</td>\n",
       "      <td>30</td>\n",
       "      <td>1</td>\n",
       "      <td>2</td>\n",
       "      <td>3</td>\n",
       "      <td>Computer Science</td>\n",
       "    </tr>\n",
       "    <tr>\n",
       "      <th>39773</th>\n",
       "      <td>3</td>\n",
       "      <td>36</td>\n",
       "      <td>4286</td>\n",
       "      <td>1</td>\n",
       "      <td>34</td>\n",
       "      <td>2736</td>\n",
       "      <td>2</td>\n",
       "      <td>10</td>\n",
       "      <td>5968</td>\n",
       "      <td>2</td>\n",
       "      <td>...</td>\n",
       "      <td>2</td>\n",
       "      <td>1</td>\n",
       "      <td>1</td>\n",
       "      <td>6</td>\n",
       "      <td>1</td>\n",
       "      <td>60</td>\n",
       "      <td>1</td>\n",
       "      <td>1</td>\n",
       "      <td>2</td>\n",
       "      <td>History</td>\n",
       "    </tr>\n",
       "    <tr>\n",
       "      <th>39774</th>\n",
       "      <td>2</td>\n",
       "      <td>28</td>\n",
       "      <td>32251</td>\n",
       "      <td>1</td>\n",
       "      <td>22</td>\n",
       "      <td>3317</td>\n",
       "      <td>2</td>\n",
       "      <td>4</td>\n",
       "      <td>11734</td>\n",
       "      <td>1</td>\n",
       "      <td>...</td>\n",
       "      <td>1</td>\n",
       "      <td>1</td>\n",
       "      <td>1</td>\n",
       "      <td>10</td>\n",
       "      <td>1</td>\n",
       "      <td>10</td>\n",
       "      <td>1</td>\n",
       "      <td>1</td>\n",
       "      <td>4</td>\n",
       "      <td>Cognitive Science</td>\n",
       "    </tr>\n",
       "  </tbody>\n",
       "</table>\n",
       "<p>39775 rows × 172 columns</p>\n",
       "</div>"
      ],
      "text/plain": [
       "       Q1A  Q1I    Q1E  Q2A  Q2I   Q2E  Q3A  Q3I    Q3E  Q4A  ...  screensize  \\\n",
       "0        4   28   3890    4   25  2122    2   16   1944    4  ...           1   \n",
       "1        4    2   8118    1   36  2890    2   35   4777    3  ...           2   \n",
       "2        3    7   5784    1   33  4373    4   41   3242    1  ...           2   \n",
       "3        2   23   5081    3   11  6837    2   37   5521    1  ...           2   \n",
       "4        2   36   3215    2   13  7731    3    5   4156    4  ...           2   \n",
       "...    ...  ...    ...  ...  ...   ...  ...  ...    ...  ...  ...         ...   \n",
       "39770    2   31   3287    1    5  2216    3   29   3895    2  ...           2   \n",
       "39771    3   14   4792    4   41  2604    3   15   2668    4  ...           1   \n",
       "39772    2    1  25147    1    4  4555    2   14   3388    1  ...           2   \n",
       "39773    3   36   4286    1   34  2736    2   10   5968    2  ...           2   \n",
       "39774    2   28  32251    1   22  3317    2    4  11734    1  ...           1   \n",
       "\n",
       "       uniquenetworklocation  hand  religion  orientation  race  voted  \\\n",
       "0                          1     1        12            1    10      2   \n",
       "1                          1     2         7            0    70      2   \n",
       "2                          1     1         4            3    60      1   \n",
       "3                          1     2         4            5    70      2   \n",
       "4                          2     3        10            1    10      2   \n",
       "...                      ...   ...       ...          ...   ...    ...   \n",
       "39770                      1     1         2            4    60      2   \n",
       "39771                      1     1        10            0    10      2   \n",
       "39772                      1     1         7            1    30      1   \n",
       "39773                      1     1         6            1    60      1   \n",
       "39774                      1     1        10            1    10      1   \n",
       "\n",
       "       married  familysize              major  \n",
       "0            1           2                NaN  \n",
       "1            1           4                NaN  \n",
       "2            1           3                NaN  \n",
       "3            1           5            biology  \n",
       "4            1           4         Psychology  \n",
       "...        ...         ...                ...  \n",
       "39770        1           2                NaN  \n",
       "39771        1           4         Mathematic  \n",
       "39772        2           3   Computer Science  \n",
       "39773        1           2            History  \n",
       "39774        1           4  Cognitive Science  \n",
       "\n",
       "[39775 rows x 172 columns]"
      ]
     },
     "execution_count": 2,
     "metadata": {},
     "output_type": "execute_result"
    }
   ],
   "source": [
    "pd.read_csv('data.csv', sep = '\\t')"
   ]
  },
  {
   "cell_type": "markdown",
   "id": "3a80ada8",
   "metadata": {},
   "source": [
    "### In this Video We will Cover\n",
    "- PySpark Dataframe\n",
    "- Reading The Dataset\n",
    "- Checking the Datatypes of the Column(Schema)\n",
    "- Selecting Columns And Indexing\n",
    "- Check Describe option similar to Pandas\n",
    "- Adding Columns\n",
    "- Dropping columns\n",
    "- Renaming Columns"
   ]
  },
  {
   "cell_type": "code",
   "execution_count": 3,
   "id": "7812e0cb",
   "metadata": {},
   "outputs": [],
   "source": [
    "from pyspark.sql import SparkSession"
   ]
  },
  {
   "cell_type": "markdown",
   "id": "b2d8250f",
   "metadata": {},
   "source": [
    "### Create a spark Session"
   ]
  },
  {
   "cell_type": "code",
   "execution_count": 11,
   "id": "ee7729e2",
   "metadata": {},
   "outputs": [],
   "source": [
    "spark=SparkSession.builder.appName('Practice').getOrCreate()"
   ]
  },
  {
   "cell_type": "markdown",
   "id": "573c84b8",
   "metadata": {},
   "source": [
    "### Read csv with spark"
   ]
  },
  {
   "cell_type": "code",
   "execution_count": 12,
   "id": "2a6450c6",
   "metadata": {},
   "outputs": [],
   "source": [
    "df_ps = spark.read.csv('data.csv')"
   ]
  },
  {
   "cell_type": "code",
   "execution_count": 32,
   "id": "1052d9bd",
   "metadata": {},
   "outputs": [
    {
     "data": {
      "text/plain": [
       "DataFrame[_c0: string]"
      ]
     },
     "execution_count": 32,
     "metadata": {},
     "output_type": "execute_result"
    }
   ],
   "source": [
    "df_ps"
   ]
  },
  {
   "cell_type": "markdown",
   "id": "50760239",
   "metadata": {},
   "source": [
    "### Show"
   ]
  },
  {
   "cell_type": "code",
   "execution_count": 14,
   "id": "aabbbc5e",
   "metadata": {},
   "outputs": [
    {
     "name": "stdout",
     "output_type": "stream",
     "text": [
      "+--------------------+\n",
      "|                 _c0|\n",
      "+--------------------+\n",
      "|Q1A\tQ1I\tQ1E\tQ2A\tQ...|\n",
      "|4\t28\t3890\t4\t25\t21...|\n",
      "|4\t2\t8118\t1\t36\t289...|\n",
      "|3\t7\t5784\t1\t33\t437...|\n",
      "|2\t23\t5081\t3\t11\t68...|\n",
      "|2\t36\t3215\t2\t13\t77...|\n",
      "|1\t18\t6116\t1\t28\t31...|\n",
      "|1\t20\t4325\t1\t34\t40...|\n",
      "|1\t34\t4796\t1\t9\t261...|\n",
      "|4\t4\t3470\t4\t14\t213...|\n",
      "|3\t38\t5187\t2\t28\t26...|\n",
      "|3\t38\t3352\t1\t16\t43...|\n",
      "|3\t37\t4024\t3\t35\t21...|\n",
      "|1\t35\t3055\t1\t24\t18...|\n",
      "|1\t28\t2890\t4\t20\t39...|\n",
      "|1\t10\t2901\t1\t1\t903...|\n",
      "|3\t17\t2316\t1\t18\t24...|\n",
      "|3\t15\t2789\t1\t3\t450...|\n",
      "|3\t17\t2507\t1\t27\t13...|\n",
      "|3\t5\t6729\t2\t4\t4793...|\n",
      "+--------------------+\n",
      "only showing top 20 rows\n",
      "\n"
     ]
    }
   ],
   "source": [
    "df_ps.show()"
   ]
  },
  {
   "cell_type": "markdown",
   "id": "19aceb6c",
   "metadata": {},
   "source": [
    "### set header = true and delimeter = '\\t'"
   ]
  },
  {
   "cell_type": "code",
   "execution_count": 50,
   "id": "c973f47c",
   "metadata": {},
   "outputs": [],
   "source": [
    "df_ps2 = spark.read.option('header', 'true').option('delimiter','\\t').csv('data.csv')"
   ]
  },
  {
   "cell_type": "code",
   "execution_count": 51,
   "id": "20510c50",
   "metadata": {},
   "outputs": [
    {
     "data": {
      "text/plain": [
       "pyspark.sql.dataframe.DataFrame"
      ]
     },
     "execution_count": 51,
     "metadata": {},
     "output_type": "execute_result"
    }
   ],
   "source": [
    "type(df_ps2)"
   ]
  },
  {
   "cell_type": "code",
   "execution_count": 52,
   "id": "8d14e768",
   "metadata": {},
   "outputs": [
    {
     "data": {
      "text/plain": [
       "[Row(Q1A='4', Q1I='28', Q1E='3890', Q2A='4', Q2I='25', Q2E='2122', Q3A='2', Q3I='16', Q3E='1944', Q4A='4', Q4I='8', Q4E='2044', Q5A='4', Q5I='34', Q5E='2153', Q6A='4', Q6I='33', Q6E='2416', Q7A='4', Q7I='10', Q7E='2818', Q8A='4', Q8I='13', Q8E='2259', Q9A='2', Q9I='21', Q9E='5541', Q10A='1', Q10I='38', Q10E='4441', Q11A='4', Q11I='31', Q11E='2451', Q12A='4', Q12I='24', Q12E='3325', Q13A='4', Q13I='14', Q13E='1416', Q14A='4', Q14I='37', Q14E='5021', Q15A='4', Q15I='27', Q15E='2342', Q16A='4', Q16I='39', Q16E='2480', Q17A='3', Q17I='6', Q17E='2476', Q18A='4', Q18I='35', Q18E='1627', Q19A='3', Q19I='17', Q19E='9050', Q20A='3', Q20I='30', Q20E='7001', Q21A='1', Q21I='11', Q21E='4719', Q22A='4', Q22I='20', Q22E='2984', Q23A='4', Q23I='36', Q23E='1313', Q24A='4', Q24I='42', Q24E='2444', Q25A='4', Q25I='1', Q25E='9880', Q26A='4', Q26I='2', Q26E='4695', Q27A='4', Q27I='5', Q27E='1677', Q28A='3', Q28I='4', Q28E='6723', Q29A='4', Q29I='3', Q29E='5953', Q30A='2', Q30I='26', Q30E='8062', Q31A='4', Q31I='12', Q31E='5560', Q32A='4', Q32I='7', Q32E='3032', Q33A='2', Q33I='29', Q33E='3316', Q34A='3', Q34I='40', Q34E='3563', Q35A='4', Q35I='23', Q35E='5594', Q36A='4', Q36I='41', Q36E='1477', Q37A='1', Q37I='18', Q37E='3885', Q38A='2', Q38I='9', Q38E='5265', Q39A='4', Q39I='19', Q39E='1892', Q40A='3', Q40I='22', Q40E='4228', Q41A='4', Q41I='32', Q41E='1574', Q42A='4', Q42I='15', Q42E='2969', country='IN', source='2', introelapse='19', testelapse='167', surveyelapse='166', TIPI1='1', TIPI2='5', TIPI3='7', TIPI4='7', TIPI5='7', TIPI6='7', TIPI7='7', TIPI8='5', TIPI9='1', TIPI10='1', VCL1='1', VCL2='0', VCL3='0', VCL4='1', VCL5='1', VCL6='0', VCL7='1', VCL8='0', VCL9='0', VCL10='1', VCL11='0', VCL12='0', VCL13='0', VCL14='1', VCL15='1', VCL16='1', education='2', urban='3', gender='2', engnat='2', age='16', screensize='1', uniquenetworklocation='1', hand='1', religion='12', orientation='1', race='10', voted='2', married='1', familysize='2', major=None),\n",
       " Row(Q1A='4', Q1I='2', Q1E='8118', Q2A='1', Q2I='36', Q2E='2890', Q3A='2', Q3I='35', Q3E='4777', Q4A='3', Q4I='28', Q4E='3090', Q5A='4', Q5I='10', Q5E='5078', Q6A='4', Q6I='40', Q6E='2790', Q7A='3', Q7I='18', Q7E='3408', Q8A='4', Q8I='1', Q8E='8342', Q9A='3', Q9I='37', Q9E='916', Q10A='2', Q10I='32', Q10E='1537', Q11A='2', Q11I='21', Q11E='3926', Q12A='2', Q12I='25', Q12E='3691', Q13A='4', Q13I='26', Q13E='2004', Q14A='4', Q14I='4', Q14E='8888', Q15A='3', Q15I='27', Q15E='4109', Q16A='3', Q16I='19', Q16E='4058', Q17A='4', Q17I='12', Q17E='3692', Q18A='2', Q18I='6', Q18E='3373', Q19A='1', Q19I='23', Q19E='6015', Q20A='1', Q20I='16', Q20E='3023', Q21A='2', Q21I='22', Q21E='2670', Q22A='3', Q22I='3', Q22E='5727', Q23A='1', Q23I='39', Q23E='3641', Q24A='2', Q24I='33', Q24E='2670', Q25A='2', Q25I='7', Q25E='7649', Q26A='3', Q26I='11', Q26E='2537', Q27A='3', Q27I='5', Q27E='2907', Q28A='4', Q28I='9', Q28E='1685', Q29A='3', Q29I='41', Q29E='4726', Q30A='3', Q30I='17', Q30E='6063', Q31A='2', Q31I='20', Q31E='3307', Q32A='3', Q32I='14', Q32E='4995', Q33A='3', Q33I='38', Q33E='2505', Q34A='2', Q34I='34', Q34E='2540', Q35A='2', Q35I='31', Q35E='4359', Q36A='3', Q36I='15', Q36E='3925', Q37A='4', Q37I='13', Q37E='4609', Q38A='2', Q38I='30', Q38E='3755', Q39A='2', Q39I='42', Q39E='2323', Q40A='1', Q40I='24', Q40E='5713', Q41A='2', Q41I='8', Q41E='1334', Q42A='2', Q42I='29', Q42E='5562', country='US', source='2', introelapse='1', testelapse='193', surveyelapse='186', TIPI1='6', TIPI2='5', TIPI3='4', TIPI4='7', TIPI5='5', TIPI6='4', TIPI7='7', TIPI8='7', TIPI9='1', TIPI10='5', VCL1='1', VCL2='1', VCL3='0', VCL4='1', VCL5='1', VCL6='0', VCL7='0', VCL8='0', VCL9='0', VCL10='1', VCL11='0', VCL12='0', VCL13='0', VCL14='1', VCL15='1', VCL16='1', education='2', urban='3', gender='2', engnat='1', age='16', screensize='2', uniquenetworklocation='1', hand='2', religion='7', orientation='0', race='70', voted='2', married='1', familysize='4', major=None)]"
      ]
     },
     "execution_count": 52,
     "metadata": {},
     "output_type": "execute_result"
    }
   ],
   "source": [
    "df_ps2.head(2)"
   ]
  },
  {
   "cell_type": "markdown",
   "id": "88b278e5",
   "metadata": {},
   "source": [
    "### Print Schema"
   ]
  },
  {
   "cell_type": "code",
   "execution_count": 53,
   "id": "aa728441",
   "metadata": {},
   "outputs": [
    {
     "name": "stdout",
     "output_type": "stream",
     "text": [
      "root\n",
      " |-- Q1A: string (nullable = true)\n",
      " |-- Q1I: string (nullable = true)\n",
      " |-- Q1E: string (nullable = true)\n",
      " |-- Q2A: string (nullable = true)\n",
      " |-- Q2I: string (nullable = true)\n",
      " |-- Q2E: string (nullable = true)\n",
      " |-- Q3A: string (nullable = true)\n",
      " |-- Q3I: string (nullable = true)\n",
      " |-- Q3E: string (nullable = true)\n",
      " |-- Q4A: string (nullable = true)\n",
      " |-- Q4I: string (nullable = true)\n",
      " |-- Q4E: string (nullable = true)\n",
      " |-- Q5A: string (nullable = true)\n",
      " |-- Q5I: string (nullable = true)\n",
      " |-- Q5E: string (nullable = true)\n",
      " |-- Q6A: string (nullable = true)\n",
      " |-- Q6I: string (nullable = true)\n",
      " |-- Q6E: string (nullable = true)\n",
      " |-- Q7A: string (nullable = true)\n",
      " |-- Q7I: string (nullable = true)\n",
      " |-- Q7E: string (nullable = true)\n",
      " |-- Q8A: string (nullable = true)\n",
      " |-- Q8I: string (nullable = true)\n",
      " |-- Q8E: string (nullable = true)\n",
      " |-- Q9A: string (nullable = true)\n",
      " |-- Q9I: string (nullable = true)\n",
      " |-- Q9E: string (nullable = true)\n",
      " |-- Q10A: string (nullable = true)\n",
      " |-- Q10I: string (nullable = true)\n",
      " |-- Q10E: string (nullable = true)\n",
      " |-- Q11A: string (nullable = true)\n",
      " |-- Q11I: string (nullable = true)\n",
      " |-- Q11E: string (nullable = true)\n",
      " |-- Q12A: string (nullable = true)\n",
      " |-- Q12I: string (nullable = true)\n",
      " |-- Q12E: string (nullable = true)\n",
      " |-- Q13A: string (nullable = true)\n",
      " |-- Q13I: string (nullable = true)\n",
      " |-- Q13E: string (nullable = true)\n",
      " |-- Q14A: string (nullable = true)\n",
      " |-- Q14I: string (nullable = true)\n",
      " |-- Q14E: string (nullable = true)\n",
      " |-- Q15A: string (nullable = true)\n",
      " |-- Q15I: string (nullable = true)\n",
      " |-- Q15E: string (nullable = true)\n",
      " |-- Q16A: string (nullable = true)\n",
      " |-- Q16I: string (nullable = true)\n",
      " |-- Q16E: string (nullable = true)\n",
      " |-- Q17A: string (nullable = true)\n",
      " |-- Q17I: string (nullable = true)\n",
      " |-- Q17E: string (nullable = true)\n",
      " |-- Q18A: string (nullable = true)\n",
      " |-- Q18I: string (nullable = true)\n",
      " |-- Q18E: string (nullable = true)\n",
      " |-- Q19A: string (nullable = true)\n",
      " |-- Q19I: string (nullable = true)\n",
      " |-- Q19E: string (nullable = true)\n",
      " |-- Q20A: string (nullable = true)\n",
      " |-- Q20I: string (nullable = true)\n",
      " |-- Q20E: string (nullable = true)\n",
      " |-- Q21A: string (nullable = true)\n",
      " |-- Q21I: string (nullable = true)\n",
      " |-- Q21E: string (nullable = true)\n",
      " |-- Q22A: string (nullable = true)\n",
      " |-- Q22I: string (nullable = true)\n",
      " |-- Q22E: string (nullable = true)\n",
      " |-- Q23A: string (nullable = true)\n",
      " |-- Q23I: string (nullable = true)\n",
      " |-- Q23E: string (nullable = true)\n",
      " |-- Q24A: string (nullable = true)\n",
      " |-- Q24I: string (nullable = true)\n",
      " |-- Q24E: string (nullable = true)\n",
      " |-- Q25A: string (nullable = true)\n",
      " |-- Q25I: string (nullable = true)\n",
      " |-- Q25E: string (nullable = true)\n",
      " |-- Q26A: string (nullable = true)\n",
      " |-- Q26I: string (nullable = true)\n",
      " |-- Q26E: string (nullable = true)\n",
      " |-- Q27A: string (nullable = true)\n",
      " |-- Q27I: string (nullable = true)\n",
      " |-- Q27E: string (nullable = true)\n",
      " |-- Q28A: string (nullable = true)\n",
      " |-- Q28I: string (nullable = true)\n",
      " |-- Q28E: string (nullable = true)\n",
      " |-- Q29A: string (nullable = true)\n",
      " |-- Q29I: string (nullable = true)\n",
      " |-- Q29E: string (nullable = true)\n",
      " |-- Q30A: string (nullable = true)\n",
      " |-- Q30I: string (nullable = true)\n",
      " |-- Q30E: string (nullable = true)\n",
      " |-- Q31A: string (nullable = true)\n",
      " |-- Q31I: string (nullable = true)\n",
      " |-- Q31E: string (nullable = true)\n",
      " |-- Q32A: string (nullable = true)\n",
      " |-- Q32I: string (nullable = true)\n",
      " |-- Q32E: string (nullable = true)\n",
      " |-- Q33A: string (nullable = true)\n",
      " |-- Q33I: string (nullable = true)\n",
      " |-- Q33E: string (nullable = true)\n",
      " |-- Q34A: string (nullable = true)\n",
      " |-- Q34I: string (nullable = true)\n",
      " |-- Q34E: string (nullable = true)\n",
      " |-- Q35A: string (nullable = true)\n",
      " |-- Q35I: string (nullable = true)\n",
      " |-- Q35E: string (nullable = true)\n",
      " |-- Q36A: string (nullable = true)\n",
      " |-- Q36I: string (nullable = true)\n",
      " |-- Q36E: string (nullable = true)\n",
      " |-- Q37A: string (nullable = true)\n",
      " |-- Q37I: string (nullable = true)\n",
      " |-- Q37E: string (nullable = true)\n",
      " |-- Q38A: string (nullable = true)\n",
      " |-- Q38I: string (nullable = true)\n",
      " |-- Q38E: string (nullable = true)\n",
      " |-- Q39A: string (nullable = true)\n",
      " |-- Q39I: string (nullable = true)\n",
      " |-- Q39E: string (nullable = true)\n",
      " |-- Q40A: string (nullable = true)\n",
      " |-- Q40I: string (nullable = true)\n",
      " |-- Q40E: string (nullable = true)\n",
      " |-- Q41A: string (nullable = true)\n",
      " |-- Q41I: string (nullable = true)\n",
      " |-- Q41E: string (nullable = true)\n",
      " |-- Q42A: string (nullable = true)\n",
      " |-- Q42I: string (nullable = true)\n",
      " |-- Q42E: string (nullable = true)\n",
      " |-- country: string (nullable = true)\n",
      " |-- source: string (nullable = true)\n",
      " |-- introelapse: string (nullable = true)\n",
      " |-- testelapse: string (nullable = true)\n",
      " |-- surveyelapse: string (nullable = true)\n",
      " |-- TIPI1: string (nullable = true)\n",
      " |-- TIPI2: string (nullable = true)\n",
      " |-- TIPI3: string (nullable = true)\n",
      " |-- TIPI4: string (nullable = true)\n",
      " |-- TIPI5: string (nullable = true)\n",
      " |-- TIPI6: string (nullable = true)\n",
      " |-- TIPI7: string (nullable = true)\n",
      " |-- TIPI8: string (nullable = true)\n",
      " |-- TIPI9: string (nullable = true)\n",
      " |-- TIPI10: string (nullable = true)\n",
      " |-- VCL1: string (nullable = true)\n",
      " |-- VCL2: string (nullable = true)\n",
      " |-- VCL3: string (nullable = true)\n",
      " |-- VCL4: string (nullable = true)\n",
      " |-- VCL5: string (nullable = true)\n",
      " |-- VCL6: string (nullable = true)\n",
      " |-- VCL7: string (nullable = true)\n",
      " |-- VCL8: string (nullable = true)\n",
      " |-- VCL9: string (nullable = true)\n",
      " |-- VCL10: string (nullable = true)\n",
      " |-- VCL11: string (nullable = true)\n",
      " |-- VCL12: string (nullable = true)\n",
      " |-- VCL13: string (nullable = true)\n",
      " |-- VCL14: string (nullable = true)\n",
      " |-- VCL15: string (nullable = true)\n",
      " |-- VCL16: string (nullable = true)\n",
      " |-- education: string (nullable = true)\n",
      " |-- urban: string (nullable = true)\n",
      " |-- gender: string (nullable = true)\n",
      " |-- engnat: string (nullable = true)\n",
      " |-- age: string (nullable = true)\n",
      " |-- screensize: string (nullable = true)\n",
      " |-- uniquenetworklocation: string (nullable = true)\n",
      " |-- hand: string (nullable = true)\n",
      " |-- religion: string (nullable = true)\n",
      " |-- orientation: string (nullable = true)\n",
      " |-- race: string (nullable = true)\n",
      " |-- voted: string (nullable = true)\n",
      " |-- married: string (nullable = true)\n",
      " |-- familysize: string (nullable = true)\n",
      " |-- major: string (nullable = true)\n",
      "\n"
     ]
    }
   ],
   "source": [
    "df_ps2.printSchema()"
   ]
  },
  {
   "cell_type": "code",
   "execution_count": 62,
   "id": "22cc945a",
   "metadata": {},
   "outputs": [],
   "source": [
    "df_ps3 = spark.read.option('header', 'true').option('delimiter', '\\t').csv('data.csv', inferSchema = True)"
   ]
  },
  {
   "cell_type": "code",
   "execution_count": 63,
   "id": "0852438b",
   "metadata": {},
   "outputs": [
    {
     "name": "stdout",
     "output_type": "stream",
     "text": [
      "root\n",
      " |-- Q1A: integer (nullable = true)\n",
      " |-- Q1I: integer (nullable = true)\n",
      " |-- Q1E: integer (nullable = true)\n",
      " |-- Q2A: integer (nullable = true)\n",
      " |-- Q2I: integer (nullable = true)\n",
      " |-- Q2E: integer (nullable = true)\n",
      " |-- Q3A: integer (nullable = true)\n",
      " |-- Q3I: integer (nullable = true)\n",
      " |-- Q3E: integer (nullable = true)\n",
      " |-- Q4A: integer (nullable = true)\n",
      " |-- Q4I: integer (nullable = true)\n",
      " |-- Q4E: integer (nullable = true)\n",
      " |-- Q5A: integer (nullable = true)\n",
      " |-- Q5I: integer (nullable = true)\n",
      " |-- Q5E: integer (nullable = true)\n",
      " |-- Q6A: integer (nullable = true)\n",
      " |-- Q6I: integer (nullable = true)\n",
      " |-- Q6E: integer (nullable = true)\n",
      " |-- Q7A: integer (nullable = true)\n",
      " |-- Q7I: integer (nullable = true)\n",
      " |-- Q7E: integer (nullable = true)\n",
      " |-- Q8A: integer (nullable = true)\n",
      " |-- Q8I: integer (nullable = true)\n",
      " |-- Q8E: integer (nullable = true)\n",
      " |-- Q9A: integer (nullable = true)\n",
      " |-- Q9I: integer (nullable = true)\n",
      " |-- Q9E: integer (nullable = true)\n",
      " |-- Q10A: integer (nullable = true)\n",
      " |-- Q10I: integer (nullable = true)\n",
      " |-- Q10E: integer (nullable = true)\n",
      " |-- Q11A: integer (nullable = true)\n",
      " |-- Q11I: integer (nullable = true)\n",
      " |-- Q11E: integer (nullable = true)\n",
      " |-- Q12A: integer (nullable = true)\n",
      " |-- Q12I: integer (nullable = true)\n",
      " |-- Q12E: integer (nullable = true)\n",
      " |-- Q13A: integer (nullable = true)\n",
      " |-- Q13I: integer (nullable = true)\n",
      " |-- Q13E: integer (nullable = true)\n",
      " |-- Q14A: integer (nullable = true)\n",
      " |-- Q14I: integer (nullable = true)\n",
      " |-- Q14E: integer (nullable = true)\n",
      " |-- Q15A: integer (nullable = true)\n",
      " |-- Q15I: integer (nullable = true)\n",
      " |-- Q15E: integer (nullable = true)\n",
      " |-- Q16A: integer (nullable = true)\n",
      " |-- Q16I: integer (nullable = true)\n",
      " |-- Q16E: integer (nullable = true)\n",
      " |-- Q17A: integer (nullable = true)\n",
      " |-- Q17I: integer (nullable = true)\n",
      " |-- Q17E: integer (nullable = true)\n",
      " |-- Q18A: integer (nullable = true)\n",
      " |-- Q18I: integer (nullable = true)\n",
      " |-- Q18E: integer (nullable = true)\n",
      " |-- Q19A: integer (nullable = true)\n",
      " |-- Q19I: integer (nullable = true)\n",
      " |-- Q19E: integer (nullable = true)\n",
      " |-- Q20A: integer (nullable = true)\n",
      " |-- Q20I: integer (nullable = true)\n",
      " |-- Q20E: integer (nullable = true)\n",
      " |-- Q21A: integer (nullable = true)\n",
      " |-- Q21I: integer (nullable = true)\n",
      " |-- Q21E: integer (nullable = true)\n",
      " |-- Q22A: integer (nullable = true)\n",
      " |-- Q22I: integer (nullable = true)\n",
      " |-- Q22E: integer (nullable = true)\n",
      " |-- Q23A: integer (nullable = true)\n",
      " |-- Q23I: integer (nullable = true)\n",
      " |-- Q23E: integer (nullable = true)\n",
      " |-- Q24A: integer (nullable = true)\n",
      " |-- Q24I: integer (nullable = true)\n",
      " |-- Q24E: integer (nullable = true)\n",
      " |-- Q25A: integer (nullable = true)\n",
      " |-- Q25I: integer (nullable = true)\n",
      " |-- Q25E: integer (nullable = true)\n",
      " |-- Q26A: integer (nullable = true)\n",
      " |-- Q26I: integer (nullable = true)\n",
      " |-- Q26E: integer (nullable = true)\n",
      " |-- Q27A: integer (nullable = true)\n",
      " |-- Q27I: integer (nullable = true)\n",
      " |-- Q27E: integer (nullable = true)\n",
      " |-- Q28A: integer (nullable = true)\n",
      " |-- Q28I: integer (nullable = true)\n",
      " |-- Q28E: integer (nullable = true)\n",
      " |-- Q29A: integer (nullable = true)\n",
      " |-- Q29I: integer (nullable = true)\n",
      " |-- Q29E: integer (nullable = true)\n",
      " |-- Q30A: integer (nullable = true)\n",
      " |-- Q30I: integer (nullable = true)\n",
      " |-- Q30E: integer (nullable = true)\n",
      " |-- Q31A: integer (nullable = true)\n",
      " |-- Q31I: integer (nullable = true)\n",
      " |-- Q31E: integer (nullable = true)\n",
      " |-- Q32A: integer (nullable = true)\n",
      " |-- Q32I: integer (nullable = true)\n",
      " |-- Q32E: integer (nullable = true)\n",
      " |-- Q33A: integer (nullable = true)\n",
      " |-- Q33I: integer (nullable = true)\n",
      " |-- Q33E: integer (nullable = true)\n",
      " |-- Q34A: integer (nullable = true)\n",
      " |-- Q34I: integer (nullable = true)\n",
      " |-- Q34E: integer (nullable = true)\n",
      " |-- Q35A: integer (nullable = true)\n",
      " |-- Q35I: integer (nullable = true)\n",
      " |-- Q35E: integer (nullable = true)\n",
      " |-- Q36A: integer (nullable = true)\n",
      " |-- Q36I: integer (nullable = true)\n",
      " |-- Q36E: integer (nullable = true)\n",
      " |-- Q37A: integer (nullable = true)\n",
      " |-- Q37I: integer (nullable = true)\n",
      " |-- Q37E: integer (nullable = true)\n",
      " |-- Q38A: integer (nullable = true)\n",
      " |-- Q38I: integer (nullable = true)\n",
      " |-- Q38E: integer (nullable = true)\n",
      " |-- Q39A: integer (nullable = true)\n",
      " |-- Q39I: integer (nullable = true)\n",
      " |-- Q39E: integer (nullable = true)\n",
      " |-- Q40A: integer (nullable = true)\n",
      " |-- Q40I: integer (nullable = true)\n",
      " |-- Q40E: integer (nullable = true)\n",
      " |-- Q41A: integer (nullable = true)\n",
      " |-- Q41I: integer (nullable = true)\n",
      " |-- Q41E: integer (nullable = true)\n",
      " |-- Q42A: integer (nullable = true)\n",
      " |-- Q42I: integer (nullable = true)\n",
      " |-- Q42E: integer (nullable = true)\n",
      " |-- country: string (nullable = true)\n",
      " |-- source: integer (nullable = true)\n",
      " |-- introelapse: integer (nullable = true)\n",
      " |-- testelapse: integer (nullable = true)\n",
      " |-- surveyelapse: integer (nullable = true)\n",
      " |-- TIPI1: integer (nullable = true)\n",
      " |-- TIPI2: integer (nullable = true)\n",
      " |-- TIPI3: integer (nullable = true)\n",
      " |-- TIPI4: integer (nullable = true)\n",
      " |-- TIPI5: integer (nullable = true)\n",
      " |-- TIPI6: integer (nullable = true)\n",
      " |-- TIPI7: integer (nullable = true)\n",
      " |-- TIPI8: integer (nullable = true)\n",
      " |-- TIPI9: integer (nullable = true)\n",
      " |-- TIPI10: integer (nullable = true)\n",
      " |-- VCL1: integer (nullable = true)\n",
      " |-- VCL2: integer (nullable = true)\n",
      " |-- VCL3: integer (nullable = true)\n",
      " |-- VCL4: integer (nullable = true)\n",
      " |-- VCL5: integer (nullable = true)\n",
      " |-- VCL6: integer (nullable = true)\n",
      " |-- VCL7: integer (nullable = true)\n",
      " |-- VCL8: integer (nullable = true)\n",
      " |-- VCL9: integer (nullable = true)\n",
      " |-- VCL10: integer (nullable = true)\n",
      " |-- VCL11: integer (nullable = true)\n",
      " |-- VCL12: integer (nullable = true)\n",
      " |-- VCL13: integer (nullable = true)\n",
      " |-- VCL14: integer (nullable = true)\n",
      " |-- VCL15: integer (nullable = true)\n",
      " |-- VCL16: integer (nullable = true)\n",
      " |-- education: integer (nullable = true)\n",
      " |-- urban: integer (nullable = true)\n",
      " |-- gender: integer (nullable = true)\n",
      " |-- engnat: integer (nullable = true)\n",
      " |-- age: integer (nullable = true)\n",
      " |-- screensize: integer (nullable = true)\n",
      " |-- uniquenetworklocation: integer (nullable = true)\n",
      " |-- hand: integer (nullable = true)\n",
      " |-- religion: integer (nullable = true)\n",
      " |-- orientation: integer (nullable = true)\n",
      " |-- race: integer (nullable = true)\n",
      " |-- voted: integer (nullable = true)\n",
      " |-- married: integer (nullable = true)\n",
      " |-- familysize: integer (nullable = true)\n",
      " |-- major: string (nullable = true)\n",
      "\n"
     ]
    }
   ],
   "source": [
    "df_ps3.printSchema()"
   ]
  },
  {
   "cell_type": "markdown",
   "id": "9e9f6b79",
   "metadata": {},
   "source": [
    "### Do it in .csv"
   ]
  },
  {
   "cell_type": "code",
   "execution_count": 68,
   "id": "f551e8ea",
   "metadata": {},
   "outputs": [
    {
     "name": "stdout",
     "output_type": "stream",
     "text": [
      "+---+---+----+---+---+----+---+---+-----+---+---+----+---+---+----+---+---+-----+---+---+-----+---+---+----+---+---+-----+----+----+----+----+----+----+----+----+-----+----+----+----+----+----+-----+----+----+-----+----+----+-----+----+----+----+----+----+--------+----+----+-----+----+----+-----+----+----+----+----+----+------+----+----+-----+----+----+----+----+----+-----+----+----+----+----+----+-----+----+----+----+----+----+-------+----+----+-----+----+----+----+----+----+-----+----+----+-----+----+----+----+----+----+-----+----+----+----+----+----+-----+----+----+-----+----+----+-----+----+----+----+----+----+-----+----+----+-----+-------+------+-----------+----------+------------+-----+-----+-----+-----+-----+-----+-----+-----+-----+------+----+----+----+----+----+----+----+----+----+-----+-----+-----+-----+-----+-----+-----+---------+-----+------+------+---+----------+---------------------+----+--------+-----------+----+-----+-------+----------+--------------------+\n",
      "|Q1A|Q1I| Q1E|Q2A|Q2I| Q2E|Q3A|Q3I|  Q3E|Q4A|Q4I| Q4E|Q5A|Q5I| Q5E|Q6A|Q6I|  Q6E|Q7A|Q7I|  Q7E|Q8A|Q8I| Q8E|Q9A|Q9I|  Q9E|Q10A|Q10I|Q10E|Q11A|Q11I|Q11E|Q12A|Q12I| Q12E|Q13A|Q13I|Q13E|Q14A|Q14I| Q14E|Q15A|Q15I| Q15E|Q16A|Q16I| Q16E|Q17A|Q17I|Q17E|Q18A|Q18I|    Q18E|Q19A|Q19I| Q19E|Q20A|Q20I| Q20E|Q21A|Q21I|Q21E|Q22A|Q22I|  Q22E|Q23A|Q23I| Q23E|Q24A|Q24I|Q24E|Q25A|Q25I| Q25E|Q26A|Q26I|Q26E|Q27A|Q27I| Q27E|Q28A|Q28I|Q28E|Q29A|Q29I|   Q29E|Q30A|Q30I| Q30E|Q31A|Q31I|Q31E|Q32A|Q32I| Q32E|Q33A|Q33I| Q33E|Q34A|Q34I|Q34E|Q35A|Q35I| Q35E|Q36A|Q36I|Q36E|Q37A|Q37I| Q37E|Q38A|Q38I| Q38E|Q39A|Q39I| Q39E|Q40A|Q40I|Q40E|Q41A|Q41I| Q41E|Q42A|Q42I| Q42E|country|source|introelapse|testelapse|surveyelapse|TIPI1|TIPI2|TIPI3|TIPI4|TIPI5|TIPI6|TIPI7|TIPI8|TIPI9|TIPI10|VCL1|VCL2|VCL3|VCL4|VCL5|VCL6|VCL7|VCL8|VCL9|VCL10|VCL11|VCL12|VCL13|VCL14|VCL15|VCL16|education|urban|gender|engnat|age|screensize|uniquenetworklocation|hand|religion|orientation|race|voted|married|familysize|               major|\n",
      "+---+---+----+---+---+----+---+---+-----+---+---+----+---+---+----+---+---+-----+---+---+-----+---+---+----+---+---+-----+----+----+----+----+----+----+----+----+-----+----+----+----+----+----+-----+----+----+-----+----+----+-----+----+----+----+----+----+--------+----+----+-----+----+----+-----+----+----+----+----+----+------+----+----+-----+----+----+----+----+----+-----+----+----+----+----+----+-----+----+----+----+----+----+-------+----+----+-----+----+----+----+----+----+-----+----+----+-----+----+----+----+----+----+-----+----+----+----+----+----+-----+----+----+-----+----+----+-----+----+----+----+----+----+-----+----+----+-----+-------+------+-----------+----------+------------+-----+-----+-----+-----+-----+-----+-----+-----+-----+------+----+----+----+----+----+----+----+----+----+-----+-----+-----+-----+-----+-----+-----+---------+-----+------+------+---+----------+---------------------+----+--------+-----------+----+-----+-------+----------+--------------------+\n",
      "|  4| 28|3890|  4| 25|2122|  2| 16| 1944|  4|  8|2044|  4| 34|2153|  4| 33| 2416|  4| 10| 2818|  4| 13|2259|  2| 21| 5541|   1|  38|4441|   4|  31|2451|   4|  24| 3325|   4|  14|1416|   4|  37| 5021|   4|  27| 2342|   4|  39| 2480|   3|   6|2476|   4|  35|    1627|   3|  17| 9050|   3|  30| 7001|   1|  11|4719|   4|  20|  2984|   4|  36| 1313|   4|  42|2444|   4|   1| 9880|   4|   2|4695|   4|   5| 1677|   3|   4|6723|   4|   3|   5953|   2|  26| 8062|   4|  12|5560|   4|   7| 3032|   2|  29| 3316|   3|  40|3563|   4|  23| 5594|   4|  41|1477|   1|  18| 3885|   2|   9| 5265|   4|  19| 1892|   3|  22|4228|   4|  32| 1574|   4|  15| 2969|     IN|     2|         19|       167|         166|    1|    5|    7|    7|    7|    7|    7|    5|    1|     1|   1|   0|   0|   1|   1|   0|   1|   0|   0|    1|    0|    0|    0|    1|    1|    1|        2|    3|     2|     2| 16|         1|                    1|   1|      12|          1|  10|    2|      1|         2|                null|\n",
      "|  4|  2|8118|  1| 36|2890|  2| 35| 4777|  3| 28|3090|  4| 10|5078|  4| 40| 2790|  3| 18| 3408|  4|  1|8342|  3| 37|  916|   2|  32|1537|   2|  21|3926|   2|  25| 3691|   4|  26|2004|   4|   4| 8888|   3|  27| 4109|   3|  19| 4058|   4|  12|3692|   2|   6|    3373|   1|  23| 6015|   1|  16| 3023|   2|  22|2670|   3|   3|  5727|   1|  39| 3641|   2|  33|2670|   2|   7| 7649|   3|  11|2537|   3|   5| 2907|   4|   9|1685|   3|  41|   4726|   3|  17| 6063|   2|  20|3307|   3|  14| 4995|   3|  38| 2505|   2|  34|2540|   2|  31| 4359|   3|  15|3925|   4|  13| 4609|   2|  30| 3755|   2|  42| 2323|   1|  24|5713|   2|   8| 1334|   2|  29| 5562|     US|     2|          1|       193|         186|    6|    5|    4|    7|    5|    4|    7|    7|    1|     5|   1|   1|   0|   1|   1|   0|   0|   0|   0|    1|    0|    0|    0|    1|    1|    1|        2|    3|     2|     1| 16|         2|                    1|   2|       7|          0|  70|    2|      1|         4|                null|\n",
      "|  3|  7|5784|  1| 33|4373|  4| 41| 3242|  1| 13|6470|  4| 11|3927|  3|  9| 3704|  1| 17| 4550|  3|  5|3021|  2| 32| 5864|   4|  21|3722|   2|  10|3424|   1|  36| 3236|   4|  23|2489|   1|  34| 7290|   4|  12| 6587|   4|  22| 3627|   4|  38|2905|   2|  18|    2998|   2|   8|10233|   1|  16| 4258|   4|  28|2888|   3|   4| 59592|   2|   3|11732|   4|   2|8834|   2|  29| 7358|   1|  30|4928|   2|  15| 3036|   1|  19|4127|   2|  37|   3934|   2|  26|10782|   4|   1|8273|   3|  39| 3501|   1|  27| 3824|   4|  25|2141|   3|   6|17461|   4|  24|1557|   4|  40| 4446|   4|  42| 1883|   2|  35| 5790|   2|  14|4432|   1|  20| 2203|   4|  31| 5768|     PL|     2|          5|       271|         122|    2|    5|    2|    2|    5|    6|    5|    5|    3|     2|   1|   0|   0|   1|   1|   0|   0|   0|   0|    0|    1|    0|    0|    1|    1|    1|        2|    3|     2|     2| 17|         2|                    1|   1|       4|          3|  60|    1|      1|         3|                null|\n",
      "|  2| 23|5081|  3| 11|6837|  2| 37| 5521|  1| 27|4556|  3| 28|3269|  3| 26| 3231|  4|  2| 7138|  2| 19|3079|  3| 31| 9650|   3|  17|4179|   2|   5|5928|   1|  21| 2838|   1|  20|2560|   4|  29| 5139|   2|  22| 3597|   2|  35| 3336|   3|  10|4506|   1|  14|    2695|   1|  25| 8128|   2|  15| 3125|   1|   6|4061|   1|  40|  4272|   1|  12| 4029|   1|   9|5630|   1|  18|30631|   2|  24|9870|   4|   4| 2411|   1|  16|9478|   3|   1|   7618|   3|  32|12639|   3|  34|5378|   1|  41| 8923|   2|  38| 2977|   4|   3|5620|   1|   7|16760|   1|   8|6427|   2|  39| 3760|   1|  13| 4112|   3|  42| 2769|   4|  33|4432|   4|  30| 3643|   2|  36| 3698|     US|     2|          3|       261|         336|    1|    1|    7|    4|    6|    4|    6|    1|    6|     1|   1|   0|   0|   1|   1|   0|   0|   0|   0|    1|    0|    0|    0|    1|    1|    1|        1|    3|     2|     1| 13|         2|                    1|   2|       4|          5|  70|    2|      1|         5|             biology|\n",
      "|  2| 36|3215|  2| 13|7731|  3|  5| 4156|  4| 10|2802|  4|  2|5628|  2|  9| 6522|  4| 34| 2374|  4| 11|3054|  4|  7| 2975|   3|  14|3524|   2|  33|3033|   4|  23| 2132|   4|  17|1314|   4|  16| 3181|   4|  26| 2249|   3|  19| 2623|   4|  35|3093|   4|  38|    7098|   4|  37| 1938|   4|  15| 3502|   3|  32|4776|   3|  18|  4463|   4|   4| 2436|   2|  40|4047|   4|  31| 3787|   4|  42|2102|   2|   1|12351|   4|   3|2410|   2|  22|   5056|   4|  39| 3343|   3|  27|3012|   4|  20| 3520|   4|   8| 1868|   4|  25|2536|   3|  24| 3725|   4|  30|2130|   3|  29| 3952|   3|  21|10694|   3|  41| 3231|   4|  12|3604|   4|  28| 1950|   3|   6| 6265|     MY|     2|       1766|       164|         157|    2|    5|    3|    6|    5|    5|    5|    6|    3|     3|   1|   1|   0|   1|   1|   0|   0|   1|   0|    1|    0|    0|    1|    1|    1|    1|        3|    2|     2|     2| 19|         2|                    2|   3|      10|          1|  10|    2|      1|         4|          Psychology|\n",
      "|  1| 18|6116|  1| 28|3193|  2|  2|12542|  1|  8|6150|  3| 40|6428|  1|  4|17001|  1| 33| 2944|  3|  7|8626|  3| 14| 9639|   2|  20|6175|   1|  34|6008|   2|  21| 9267|   1|  41|5290|   3|   1|25694|   2|   9| 7634|   4|  37| 8513|   2|  25|9078|   1|  15|    4381|   1|  23| 6647|   2|  36| 6250|   1|  39|3842|   1|  16|  7876|   1|  27| 3124|   2|  12|6836|   1|  31|12063|   1|   3|9264|   1|  35| 3957|   1|  42|2537|   3|  17|  10880|   2|   5| 8462|   2|  32|5615|   1|  30|11412|   4|   6| 5112|   1|  29|3070|   3|  10|13377|   2|  38|4506|   2|  24|17227|   2|  13| 7844|   1|  26|20253|   1|  22|8528|   1|  11| 4370|   2|  19|10310|     US|     2|          4|       349|         213|    2|    1|    6|    1|    7|    7|    7|    2|    6|     7|   1|   1|   0|   1|   1|   0|   0|   0|   0|    1|    0|    0|    0|    0|    1|    1|        2|    3|     2|     2| 20|         2|                    1|   1|       4|          1|  70|    2|      1|         4|                null|\n",
      "|  1| 20|4325|  1| 34|4009|  2| 38| 3604|  3| 40|4826|  4| 22|2842|  1| 42| 2342|  3|  6| 9018|  3| 31|3717|  3| 39| 7023|   4|  35|3312|   1|  28|3930|   2|  41| 4558|   2|   5|2883|   2|  19| 8984|   3|  13|41618|   4|  10|17311|   2|  37|4514|   2|   2|43266690|   1|   3|22234|   3|   7| 5111|   4|  15|2831|   1|  30|103530|   3|  14| 3398|   3|  29|4551|   2|  17| 7096|   2|  27|2908|   1|   8| 3189|   2|  36|2409|   2|   1|1672595|   3|   4| 9032|   4|  32|5133|   2|  16| 5469|   4|  23| 2690|   3|   9|7122|   2|  18| 8044|   2|  21|2242|   4|  11| 3951|   4|  24| 2272|   4|  33| 3398|   2|  12|5101|   2|  25|93656|   3|  26|84607|     MX|     2|       1143|     45459|         170|    2|    5|    6|    5|    3|    2|    6|    3|    5|     5|   1|   1|   1|   1|   1|   0|   1|   0|   0|    1|    0|    0|    1|    1|    1|    1|        2|    3|     2|     2| 17|         2|                    1|   1|       7|          2|  60|    2|      1|         4|Mechatronics enge...|\n",
      "|  1| 34|4796|  1|  9|2618|  1| 39| 5823|  1| 12|6596|  3|  4|7635|  2| 31| 7384|  2| 24|11570|  1| 33|2958|  1| 15|12300|   1|   5|3605|   2|  10|5338|   1|  40| 4842|   1|  27|1422|   2|  11|10166|   2|  30| 4058|   1|   7| 7770|   1|  42|1513|   2|  38|    3281|   1|   8| 9377|   2|   1|10548|   1|  26|1798|   1|  36|  4086|   1|  25| 2053|   1|  19|6303|   2|  14| 7299|   2|  41|3395|   2|  20| 2520|   1|  35|5961|   1|  28|   3379|   1|  13|10533|   1|  22|5667|   1|  37| 6062|   1|  21| 1892|   1|  32|1405|   1|  29|10145|   1|  23|3675|   1|  16| 5432|   1|   3| 2897|   2|   6| 2732|   1|   2|9251|   1|  17| 2954|   2|  18| 8665|     GB|     2|        234|       232|         152|    7|    6|    4|    5|    3|    2|    6|    3|    5|     2|   1|   1|   0|   1|   1|   1|   0|   1|   0|    1|    0|    0|    1|    1|    1|    1|        4|    2|     2|     2| 29|         2|                    1|   1|       2|          2|  60|    1|      1|         2|               Music|\n",
      "|  4|  4|3470|  4| 14|2139|  3|  1|11043|  4| 20|1829|  3|  3|5847|  4|  7| 3529|  4| 17| 1855|  4| 29|3000|  4| 31| 6066|   3|  21|2539|   4|  16|3079|   4|  11| 4134|   4|  35|1233|   3|  30| 5252|   4|  32| 3588|   4|   6| 2784|   3|   2|8302|   4|  25|    4083|   4|  28| 4179|   4|  42| 3284|   3|  13|5699|   4|  39|  3267|   4|  19| 1704|   3|  36|5733|   2|  12| 9601|   4|  15|9435|   2|  22|10214|   4|  37|1806|   4|   8|   2983|   3|  24|10286|   4|  40|3801|   2|   9| 9552|   4|  38| 1497|   4|  27|1567|   2|  23| 8033|   4|  10|2036|   4|  26| 3868|   3|   5| 3682|   2|  33| 2751|   4|  41|7497|   4|  34| 2179|   4|  18| 3662|     US|     0|         17|       195|         242|    1|    4|    5|    7|    5|    7|    6|    7|    1|     4|   1|   1|   0|   1|   1|   1|   0|   0|   0|    1|    0|    0|    1|    1|    1|    1|        2|    3|     1|     2| 16|         1|                    1|   1|      12|          2|  70|    2|      1|         4|         Psychology |\n",
      "|  3| 38|5187|  2| 28|2600|  4|  9| 2015|  1|  7|3111|  4| 41|1712|  4| 22| 1719|  3| 21| 2049|  4| 11|2623|  4| 26| 3853|   4|  12|1888|   4|   4|2511|   4|  35| 2610|   4|  33|1298|   4|  13| 4647|   2|  31| 2800|   4|  32| 1864|   4|   3|2924|   1|  40|    3335|   4|  16| 4071|   4|   1| 6371|   4|  30|1741|   3|  17|  3161|   1|   5| 2232|   4|  14|2681|   3|   2| 7140|   4|  10|2633|   4|   8| 1670|   4|  36|1387|   4|  42|   1810|   3|  37| 3126|   4|  19|2094|   2|   6| 5727|   4|  25| 2070|   4|  15|1813|   3|  29| 5171|   4|  39|1593|   4|  23| 1830|   4|  24| 1337|   4|  27| 1392|   4|  18|2711|   3|  20| 2459|   4|  34| 1891|     DE|     2|          2|       120|         140|    1|    7|    5|    7|    5|    7|    1|    2|    1|     7|   1|   0|   0|   1|   1|   0|   0|   0|   0|    1|    0|    0|    0|    1|    1|    1|        1|    1|     2|     2| 18|         2|                    1|   1|       2|          2|  60|    2|      1|         3|computer programming|\n",
      "|  3| 38|3352|  1| 16|4322|  2| 28| 3083|  1| 34|2204|  3| 41|1180|  3| 23| 2218|  1| 29| 2378|  3| 12|2082|  1| 31| 3917|   1|   5|5533|   3|  11|2865|   2|   2|10725|   2|  37|4205|   4|  10| 4387|   2|   6| 2750|   3|  27| 2600|   2|  17|3886|   3|   8|    3073|   1|  30| 3919|   1|  39| 1919|   1|  24|3385|   1|  18|  4127|   1|  14| 6035|   3|  13|2667|   1|  25| 5481|   1|  40|3213|   3|  26| 2452|   1|  42|2103|   3|  20|   4451|   2|  32| 4967|   3|   7|2960|   3|  35| 4199|   1|  22| 2516|   2|  33|2880|   3|  36| 3416|   1|   4|2400|   1|  15| 4543|   2|   3| 4866|   3|  21| 2149|   1|   9|5033|   1|  19| 2104|   2|   1|10150|     US|     2|          3|       162|         167|    5|    3|    6|    6|    3|    4|    4|    7|    5|     7|   1|   0|   0|   1|   1|   0|   0|   0|   0|    0|    0|    0|    1|    1|    0|    0|        1|    2|     1|     1| 15|         1|                    1|   1|       6|          1|  60|    2|      1|         1|                null|\n",
      "|  3| 37|4024|  3| 35|2116|  2| 18| 3408|  2| 10|2283|  4| 23|2253|  3| 20| 2015|  1| 30| 1821|  3|  5|1593|  4|  6| 5626|   3|  24|1776|   3|  21|1717|   3|  28| 2245|   3|  17|1740|   3|  29| 2235|   1|  14| 2149|   1|  11| 4636|   3|   4|2270|   2|   7|    4390|   4|   8| 4437|   3|  13| 2169|   2|  33|2833|   4|  22|  1919|   1|  15| 1561|   2|  41|2285|   3|   9| 2997|   3|   2|4831|   2|  42| 2089|   2|  16|1998|   3|  38|   1582|   3|  36| 2360|   2|  39|2781|   2|  12| 2769|   4|  40| 3312|   3|  31|1412|   2|  26| 5201|   3|   3|2347|   1|  32| 2439|   2|  19| 1876|   4|   1| 3695|   3|  34|2816|   1|  25| 1987|   2|  27| 1833|     US|     2|        515|       511|         121|    6|    5|    6|    6|    6|    2|    5|    3|    3|     3|   1|   1|   0|   1|   1|   0|   0|   0|   0|    1|    1|    0|    0|    1|    1|    1|        2|    1|     2|     1| 18|         1|                    1|   1|       6|          1|  60|    2|      1|         2|                null|\n",
      "|  1| 35|3055|  1| 24|1812|  1| 30| 3266|  1| 15|1567|  1| 17|2851|  2|  6| 2931|  1|  8| 4374|  3| 11|1781|  1|  9| 3696|   3|  39|1850|   3|   3|2853|   2|   7| 2334|   3|  16|1668|   4|   2| 7555|   1|  32| 2004|   3|  33| 2150|   3|  27|1963|   2|   4|    3497|   4|  41| 2240|   2|  36| 1885|   3|  28|2057|   2|  23|  2269|   1|  13| 1501|   2|   5|3640|   1|  14| 2468|   3|  38|1601|   3|  34| 1464|   1|  42|1682|   3|  25|   2203|   3|  22| 4234|   1|  12|4070|   1|  19| 3667|   1|  20| 2083|   2|  10|1535|   1|  29| 2650|   2|  37|1464|   4|  31| 2634|   2|   1| 5594|   4|  18| 1614|   2|  40|2352|   3|  21| 2355|   2|  26| 3985|     US|     0|         12|       113|         148|    5|    1|    4|    6|    5|    5|    7|    6|    2|     1|   1|   1|   0|   0|   1|   0|   0|   1|   0|    1|    0|    0|    1|    1|    1|    1|        3|    0|     2|     1| 20|         1|                    1|   1|       1|          1|  60|    2|      1|         2|           Sociology|\n",
      "|  1| 28|2890|  4| 20|3910|  1| 26| 3132|  2| 35|5132|  3| 12|4903|  1| 16| 5970|  1| 40| 2632|  3| 15|4409|  2|  5| 8096|   1|  14|3818|   2|   2|6870|   1|  29| 2546|   4|  10|2870|   1|  19| 5799|   1|  41| 2589|   3|   1| 8077|   4|   8|4151|   3|  17|    4146|   1|  23| 4396|   1|   6| 5279|   1|  38|2999|   3|   4|  4281|   2|  36| 2669|   3|  18|3835|   1|  39| 5369|   1|  42|1657|   2|  11| 3428|   3|  13|3819|   3|  34|   4136|   3|   9| 6804|   2|  31|3908|   2|  33| 4329|   2|  32| 3178|   1|  27|1855|   1|  30| 2424|   4|  21|3662|   1|  25| 2538|   1|  24| 3022|   2|   3| 5017|   4|  22|4423|   2|   7| 6270|   3|  37| 3402|     EE|     2|         84|       175|         162|    5|    2|    5|    5|    2|    6|    7|    6|    6|     2|   1|   1|   0|   1|   1|   0|   0|   1|   0|    1|    0|    0|    1|    1|    1|    1|        4|    2|     1|     2| 31|         2|                    1|   1|      12|          1|  60|    2|      1|         5|                 Art|\n",
      "|  1| 10|2901|  1|  1|9036|  1| 22| 3775|  1| 34|2027|  1| 38|2714|  1|  3| 3626|  1| 11| 4496|  1| 27|3453|  1| 41| 4619|   1|  21|2540|   1|  20|2946|   1|   6| 3508|   1|  14|1727|   1|  31| 4508|   1|   4| 2490|   1|   5| 3725|   1|  28|4826|   1|  17|    2425|   1|  13| 3002|   1|  23| 2371|   1|  37|4058|   1|  25|  2721|   1|   7| 2511|   1|  33|2981|   1|   9| 4554|   1|  18|1894|   1|  40| 1541|   1|  12|3354|   1|  29|   3129|   1|  24| 5256|   1|   2|5345|   1|  36| 3058|   1|  39| 1690|   1|  30|1686|   1|  26| 4135|   1|  42|1852|   1|  19| 4181|   1|  15| 1898|   1|  32| 1389|   1|  35|4266|   1|  16| 1534|   1|   8| 3449|     US|     2|          2|       143|         228|    3|    5|    6|    1|    6|    5|    3|    2|    7|     2|   1|   1|   1|   1|   1|   0|   1|   1|   0|    1|    1|    1|    1|    1|    1|    1|        3|    2|     1|     1| 34|         2|                    1|   1|       1|          1|  60|    1|      3|         2|Biology and Philo...|\n",
      "|  3| 17|2316|  1| 18|2450|  2| 11| 3143|  2|  3|6494|  2| 34|3251|  1| 24| 3178|  1|  5| 4442|  1| 21|3403|  2| 35| 6034|   2|  22|2965|   2|   6|3132|   1|  41| 2363|   2|  39|1970|   3|  38| 7334|   1|  16| 2251|   2|  42| 2350|   3|   7|2121|   3|  13|    2760|   1|  23| 5300|   1|  20| 3051|   2|  14|2379|   2|  26|  3416|   2|  10| 5698|   2|  15|2339|   1|  29| 3552|   3|   9|3285|   3|  32| 2134|   1|  31|2128|   1|  36|   2471|   1|  28| 3330|   2|   4|4242|   2|  40| 3998|   1|  30| 2599|   2|  25|4690|   3|   8| 6314|   1|   2|6848|   2|   1| 8772|   1|  27| 1913|   3|  19| 2968|   3|  33|3953|   1|  37| 2045|   3|  12| 4649|     US|     2|          2|       155|         146|    3|    5|    4|    5|    6|    5|    4|    3|    4|     4|   1|   1|   0|   1|   1|   0|   1|   1|   1|    1|    1|    0|    1|    1|    1|    1|        2|    2|     2|     1| 17|         1|                    1|   1|       1|          2|  60|    2|      1|         1|                null|\n",
      "|  3| 15|2789|  1|  3|4500|  2| 25| 3900|  2| 16|3568|  1| 35|1682|  3| 37| 1633|  1| 12| 2105|  3|  4|2940|  4|  5| 4487|   1|  32|3186|   3|  33|6107|   3|  22| 3356|   3|  24|1475|   1|  19| 5121|   1|  13| 1515|   1|  18| 2719|   3|   7|3682|   3|  36|    2804|   1|  17| 3117|   3|  39| 2302|   1|  34|2267|   3|   2|  6795|   1|  23| 2250|   2|   1|8706|   1|  41| 2833|   4|  27|3356|   4|  28| 1933|   3|  14|2235|   4|  26|   4170|   3|  29| 3655|   1|   9|2683|   3|  20| 3396|   4|   6| 2300|   1|  40|2804|   3|  31| 5071|   3|  10|2293|   1|  11| 3448|   1|  21| 2832|   3|  38| 1967|   4|  30|4462|   1|   8| 2457|   3|  42| 7799|     US|     2|          1|       148|         108|    1|    7|    5|    7|    1|    6|    5|    4|    1|     3|   1|   1|   0|   1|   1|   0|   0|   1|   0|    1|    0|    0|    0|    1|    1|    1|        2|    2|     2|     2| 19|         2|                    1|   1|       7|          1|  60|    2|      1|         2|criminal justice;...|\n",
      "|  3| 17|2507|  1| 27|1334|  2| 38| 1864|  1|  2|2950|  2|  6|1700|  3|  1| 6535|  1|  5| 1301|  2| 40|1197|  2| 12| 6908|   2|  35|3795|   2|  15|1861|   1|  11| 2802|   2|  25|1373|   2|  39| 2051|   1|  41| 1203|   3|  14| 2051|   2|   9|2250|   2|  34|    1917|   2|  31| 7516|   1|  36| 1534|   2|  16|3283|   1|  13|  1424|   1|  23| 1084|   2|  42|1967|   1|  19| 1651|   2|   3|1636|   2|   7| 1598|   1|  10|1167|   1|   8|   2184|   1|  30| 2076|   3|  24|2083|   2|  32| 2618|   1|  22| 1633|   2|  26|1524|   2|  20| 3632|   1|  21|1067|   2|  28| 1568|   1|   4| 3799|   2|  18| 1416|   2|  29|2624|   1|  33| 1449|   1|  37| 2586|     GB|     2|          1|        99|         151|    1|    4|    4|    0|    7|    5|    4|    4|    3|     1|   1|   0|   0|   1|   1|   0|   0|   0|   0|    1|    0|    0|    0|    0|    1|    1|        3|    3|     2|     1| 18|         1|                    1|   1|      12|          1|  60|    2|      1|         5|       Hairdressing |\n",
      "|  3|  5|6729|  2|  4|4793|  2| 20| 3328|  1| 16|2199|  3| 22|2513|  1| 21| 2220|  1| 13| 2489|  2| 32|2570|  1|  8| 5790|   2|  18|4348|   1|   1|5951|   1|  26| 1973|   1|  11|2679|   4|  33| 3425|   1|  23| 1931|   3|  28| 4472|   1|  24|1450|   2|  40|    2006|   1|  25| 3613|   1|  19| 1166|   1|  15|3214|   1|  10|  4843|   1|  27| 1216|   3|  41|4086|   2|  37| 5170|   1|  35|1703|   2|   9| 2482|   1|  29|1741|   1|  14|   2681|   1|  12| 2779|   3|  38|2302|   2|  30| 3895|   1|  36| 1313|   1|  34|1426|   4|  31| 3803|   1|   3|2430|   1|  39| 2035|   2|   7| 2754|   3|   6| 2830|   1|  42|2357|   1|  17| 3662|   4|   2| 3372|     US|     2|         73|       128|          89|    2|    7|    7|    1|    6|    5|    4|    7|    6|     2|   1|   1|   1|   1|   1|   0|   0|   0|   0|    1|    0|    0|    1|    1|    1|    1|        2|    1|     1|     1| 19|         2|                    1|   3|       2|          1|  60|    2|      1|         1|    Computer Science|\n",
      "|  2|  8|4144|  2| 27|4442|  2| 37| 7254|  1| 20|1930|  4| 15|4376|  3|  5| 4109|  1| 39| 2479|  1| 36|2246|  3|  1|25617|   2|  38|2314|   2|  33|3644|   1|  19| 5109|   3|  29|3944|   1|  35| 7105|   1|   2| 7719|   2|   9| 8355|   2|  21|2629|   4|  22|    3528|   2|  24| 6805|   4|  11| 4625|   3|   3|6573|   1|  17|  4477|   1|  13| 6390|   3|  41|5692|   1|  14|20814|   3|  18|4208|   3|  12| 4658|   1|  31|3002|   1|  26|   7007|   2|  25| 8884|   2|  42|7253|   1|   4|18536|   1|  16|13061|   2|   7|4175|   4|  23| 7653|   1|  40|3426|   3|   6| 8053|   2|  10| 4856|   3|  34| 3577|   1|  32|4859|   1|  28| 2462|   4|  30| 3320|     US|     2|          3|       280|         234|    2|    2|    5|    4|    6|    7|    4|    6|    3|     6|   1|   1|   0|   1|   1|   0|   0|   0|   0|    1|    0|    0|    1|    1|    1|    1|        2|    3|     2|     1| 19|         2|                    1|   1|       4|          2|  50|    2|      1|         2|            Business|\n",
      "+---+---+----+---+---+----+---+---+-----+---+---+----+---+---+----+---+---+-----+---+---+-----+---+---+----+---+---+-----+----+----+----+----+----+----+----+----+-----+----+----+----+----+----+-----+----+----+-----+----+----+-----+----+----+----+----+----+--------+----+----+-----+----+----+-----+----+----+----+----+----+------+----+----+-----+----+----+----+----+----+-----+----+----+----+----+----+-----+----+----+----+----+----+-------+----+----+-----+----+----+----+----+----+-----+----+----+-----+----+----+----+----+----+-----+----+----+----+----+----+-----+----+----+-----+----+----+-----+----+----+----+----+----+-----+----+----+-----+-------+------+-----------+----------+------------+-----+-----+-----+-----+-----+-----+-----+-----+-----+------+----+----+----+----+----+----+----+----+----+-----+-----+-----+-----+-----+-----+-----+---------+-----+------+------+---+----------+---------------------+----+--------+-----------+----+-----+-------+----------+--------------------+\n",
      "only showing top 20 rows\n",
      "\n"
     ]
    }
   ],
   "source": [
    "df_ps3 = spark.read.option('delimiter', '\\t').csv('data.csv', header = True, inferSchema = True)\n",
    "df_ps3.show()"
   ]
  },
  {
   "cell_type": "markdown",
   "id": "7fc70c42",
   "metadata": {},
   "source": [
    "type(df_ps3)"
   ]
  },
  {
   "cell_type": "markdown",
   "id": "3912cf6a",
   "metadata": {},
   "source": [
    "### Show columns"
   ]
  },
  {
   "cell_type": "code",
   "execution_count": 72,
   "id": "89f09aea",
   "metadata": {},
   "outputs": [
    {
     "data": {
      "text/plain": [
       "['Q1A',\n",
       " 'Q1I',\n",
       " 'Q1E',\n",
       " 'Q2A',\n",
       " 'Q2I',\n",
       " 'Q2E',\n",
       " 'Q3A',\n",
       " 'Q3I',\n",
       " 'Q3E',\n",
       " 'Q4A',\n",
       " 'Q4I',\n",
       " 'Q4E',\n",
       " 'Q5A',\n",
       " 'Q5I',\n",
       " 'Q5E',\n",
       " 'Q6A',\n",
       " 'Q6I',\n",
       " 'Q6E',\n",
       " 'Q7A',\n",
       " 'Q7I',\n",
       " 'Q7E',\n",
       " 'Q8A',\n",
       " 'Q8I',\n",
       " 'Q8E',\n",
       " 'Q9A',\n",
       " 'Q9I',\n",
       " 'Q9E',\n",
       " 'Q10A',\n",
       " 'Q10I',\n",
       " 'Q10E',\n",
       " 'Q11A',\n",
       " 'Q11I',\n",
       " 'Q11E',\n",
       " 'Q12A',\n",
       " 'Q12I',\n",
       " 'Q12E',\n",
       " 'Q13A',\n",
       " 'Q13I',\n",
       " 'Q13E',\n",
       " 'Q14A',\n",
       " 'Q14I',\n",
       " 'Q14E',\n",
       " 'Q15A',\n",
       " 'Q15I',\n",
       " 'Q15E',\n",
       " 'Q16A',\n",
       " 'Q16I',\n",
       " 'Q16E',\n",
       " 'Q17A',\n",
       " 'Q17I',\n",
       " 'Q17E',\n",
       " 'Q18A',\n",
       " 'Q18I',\n",
       " 'Q18E',\n",
       " 'Q19A',\n",
       " 'Q19I',\n",
       " 'Q19E',\n",
       " 'Q20A',\n",
       " 'Q20I',\n",
       " 'Q20E',\n",
       " 'Q21A',\n",
       " 'Q21I',\n",
       " 'Q21E',\n",
       " 'Q22A',\n",
       " 'Q22I',\n",
       " 'Q22E',\n",
       " 'Q23A',\n",
       " 'Q23I',\n",
       " 'Q23E',\n",
       " 'Q24A',\n",
       " 'Q24I',\n",
       " 'Q24E',\n",
       " 'Q25A',\n",
       " 'Q25I',\n",
       " 'Q25E',\n",
       " 'Q26A',\n",
       " 'Q26I',\n",
       " 'Q26E',\n",
       " 'Q27A',\n",
       " 'Q27I',\n",
       " 'Q27E',\n",
       " 'Q28A',\n",
       " 'Q28I',\n",
       " 'Q28E',\n",
       " 'Q29A',\n",
       " 'Q29I',\n",
       " 'Q29E',\n",
       " 'Q30A',\n",
       " 'Q30I',\n",
       " 'Q30E',\n",
       " 'Q31A',\n",
       " 'Q31I',\n",
       " 'Q31E',\n",
       " 'Q32A',\n",
       " 'Q32I',\n",
       " 'Q32E',\n",
       " 'Q33A',\n",
       " 'Q33I',\n",
       " 'Q33E',\n",
       " 'Q34A',\n",
       " 'Q34I',\n",
       " 'Q34E',\n",
       " 'Q35A',\n",
       " 'Q35I',\n",
       " 'Q35E',\n",
       " 'Q36A',\n",
       " 'Q36I',\n",
       " 'Q36E',\n",
       " 'Q37A',\n",
       " 'Q37I',\n",
       " 'Q37E',\n",
       " 'Q38A',\n",
       " 'Q38I',\n",
       " 'Q38E',\n",
       " 'Q39A',\n",
       " 'Q39I',\n",
       " 'Q39E',\n",
       " 'Q40A',\n",
       " 'Q40I',\n",
       " 'Q40E',\n",
       " 'Q41A',\n",
       " 'Q41I',\n",
       " 'Q41E',\n",
       " 'Q42A',\n",
       " 'Q42I',\n",
       " 'Q42E',\n",
       " 'country',\n",
       " 'source',\n",
       " 'introelapse',\n",
       " 'testelapse',\n",
       " 'surveyelapse',\n",
       " 'TIPI1',\n",
       " 'TIPI2',\n",
       " 'TIPI3',\n",
       " 'TIPI4',\n",
       " 'TIPI5',\n",
       " 'TIPI6',\n",
       " 'TIPI7',\n",
       " 'TIPI8',\n",
       " 'TIPI9',\n",
       " 'TIPI10',\n",
       " 'VCL1',\n",
       " 'VCL2',\n",
       " 'VCL3',\n",
       " 'VCL4',\n",
       " 'VCL5',\n",
       " 'VCL6',\n",
       " 'VCL7',\n",
       " 'VCL8',\n",
       " 'VCL9',\n",
       " 'VCL10',\n",
       " 'VCL11',\n",
       " 'VCL12',\n",
       " 'VCL13',\n",
       " 'VCL14',\n",
       " 'VCL15',\n",
       " 'VCL16',\n",
       " 'education',\n",
       " 'urban',\n",
       " 'gender',\n",
       " 'engnat',\n",
       " 'age',\n",
       " 'screensize',\n",
       " 'uniquenetworklocation',\n",
       " 'hand',\n",
       " 'religion',\n",
       " 'orientation',\n",
       " 'race',\n",
       " 'voted',\n",
       " 'married',\n",
       " 'familysize',\n",
       " 'major']"
      ]
     },
     "execution_count": 72,
     "metadata": {},
     "output_type": "execute_result"
    }
   ],
   "source": [
    "df_ps3.columns"
   ]
  },
  {
   "cell_type": "code",
   "execution_count": 83,
   "id": "4dce4827",
   "metadata": {},
   "outputs": [
    {
     "data": {
      "text/plain": [
       "[Row(Q1A=4, Q1I=28, Q1E=3890, Q2A=4, Q2I=25, Q2E=2122, Q3A=2, Q3I=16, Q3E=1944, Q4A=4, Q4I=8, Q4E=2044, Q5A=4, Q5I=34, Q5E=2153, Q6A=4, Q6I=33, Q6E=2416, Q7A=4, Q7I=10, Q7E=2818, Q8A=4, Q8I=13, Q8E=2259, Q9A=2, Q9I=21, Q9E=5541, Q10A=1, Q10I=38, Q10E=4441, Q11A=4, Q11I=31, Q11E=2451, Q12A=4, Q12I=24, Q12E=3325, Q13A=4, Q13I=14, Q13E=1416, Q14A=4, Q14I=37, Q14E=5021, Q15A=4, Q15I=27, Q15E=2342, Q16A=4, Q16I=39, Q16E=2480, Q17A=3, Q17I=6, Q17E=2476, Q18A=4, Q18I=35, Q18E=1627, Q19A=3, Q19I=17, Q19E=9050, Q20A=3, Q20I=30, Q20E=7001, Q21A=1, Q21I=11, Q21E=4719, Q22A=4, Q22I=20, Q22E=2984, Q23A=4, Q23I=36, Q23E=1313, Q24A=4, Q24I=42, Q24E=2444, Q25A=4, Q25I=1, Q25E=9880, Q26A=4, Q26I=2, Q26E=4695, Q27A=4, Q27I=5, Q27E=1677, Q28A=3, Q28I=4, Q28E=6723, Q29A=4, Q29I=3, Q29E=5953, Q30A=2, Q30I=26, Q30E=8062, Q31A=4, Q31I=12, Q31E=5560, Q32A=4, Q32I=7, Q32E=3032, Q33A=2, Q33I=29, Q33E=3316, Q34A=3, Q34I=40, Q34E=3563, Q35A=4, Q35I=23, Q35E=5594, Q36A=4, Q36I=41, Q36E=1477, Q37A=1, Q37I=18, Q37E=3885, Q38A=2, Q38I=9, Q38E=5265, Q39A=4, Q39I=19, Q39E=1892, Q40A=3, Q40I=22, Q40E=4228, Q41A=4, Q41I=32, Q41E=1574, Q42A=4, Q42I=15, Q42E=2969, country='IN', source=2, introelapse=19, testelapse=167, surveyelapse=166, TIPI1=1, TIPI2=5, TIPI3=7, TIPI4=7, TIPI5=7, TIPI6=7, TIPI7=7, TIPI8=5, TIPI9=1, TIPI10=1, VCL1=1, VCL2=0, VCL3=0, VCL4=1, VCL5=1, VCL6=0, VCL7=1, VCL8=0, VCL9=0, VCL10=1, VCL11=0, VCL12=0, VCL13=0, VCL14=1, VCL15=1, VCL16=1, education=2, urban=3, gender=2, engnat=2, age=16, screensize=1, uniquenetworklocation=1, hand=1, religion=12, orientation=1, race=10, voted=2, married=1, familysize=2, major=None),\n",
       " Row(Q1A=4, Q1I=2, Q1E=8118, Q2A=1, Q2I=36, Q2E=2890, Q3A=2, Q3I=35, Q3E=4777, Q4A=3, Q4I=28, Q4E=3090, Q5A=4, Q5I=10, Q5E=5078, Q6A=4, Q6I=40, Q6E=2790, Q7A=3, Q7I=18, Q7E=3408, Q8A=4, Q8I=1, Q8E=8342, Q9A=3, Q9I=37, Q9E=916, Q10A=2, Q10I=32, Q10E=1537, Q11A=2, Q11I=21, Q11E=3926, Q12A=2, Q12I=25, Q12E=3691, Q13A=4, Q13I=26, Q13E=2004, Q14A=4, Q14I=4, Q14E=8888, Q15A=3, Q15I=27, Q15E=4109, Q16A=3, Q16I=19, Q16E=4058, Q17A=4, Q17I=12, Q17E=3692, Q18A=2, Q18I=6, Q18E=3373, Q19A=1, Q19I=23, Q19E=6015, Q20A=1, Q20I=16, Q20E=3023, Q21A=2, Q21I=22, Q21E=2670, Q22A=3, Q22I=3, Q22E=5727, Q23A=1, Q23I=39, Q23E=3641, Q24A=2, Q24I=33, Q24E=2670, Q25A=2, Q25I=7, Q25E=7649, Q26A=3, Q26I=11, Q26E=2537, Q27A=3, Q27I=5, Q27E=2907, Q28A=4, Q28I=9, Q28E=1685, Q29A=3, Q29I=41, Q29E=4726, Q30A=3, Q30I=17, Q30E=6063, Q31A=2, Q31I=20, Q31E=3307, Q32A=3, Q32I=14, Q32E=4995, Q33A=3, Q33I=38, Q33E=2505, Q34A=2, Q34I=34, Q34E=2540, Q35A=2, Q35I=31, Q35E=4359, Q36A=3, Q36I=15, Q36E=3925, Q37A=4, Q37I=13, Q37E=4609, Q38A=2, Q38I=30, Q38E=3755, Q39A=2, Q39I=42, Q39E=2323, Q40A=1, Q40I=24, Q40E=5713, Q41A=2, Q41I=8, Q41E=1334, Q42A=2, Q42I=29, Q42E=5562, country='US', source=2, introelapse=1, testelapse=193, surveyelapse=186, TIPI1=6, TIPI2=5, TIPI3=4, TIPI4=7, TIPI5=5, TIPI6=4, TIPI7=7, TIPI8=7, TIPI9=1, TIPI10=5, VCL1=1, VCL2=1, VCL3=0, VCL4=1, VCL5=1, VCL6=0, VCL7=0, VCL8=0, VCL9=0, VCL10=1, VCL11=0, VCL12=0, VCL13=0, VCL14=1, VCL15=1, VCL16=1, education=2, urban=3, gender=2, engnat=1, age=16, screensize=2, uniquenetworklocation=1, hand=2, religion=7, orientation=0, race=70, voted=2, married=1, familysize=4, major=None),\n",
       " Row(Q1A=3, Q1I=7, Q1E=5784, Q2A=1, Q2I=33, Q2E=4373, Q3A=4, Q3I=41, Q3E=3242, Q4A=1, Q4I=13, Q4E=6470, Q5A=4, Q5I=11, Q5E=3927, Q6A=3, Q6I=9, Q6E=3704, Q7A=1, Q7I=17, Q7E=4550, Q8A=3, Q8I=5, Q8E=3021, Q9A=2, Q9I=32, Q9E=5864, Q10A=4, Q10I=21, Q10E=3722, Q11A=2, Q11I=10, Q11E=3424, Q12A=1, Q12I=36, Q12E=3236, Q13A=4, Q13I=23, Q13E=2489, Q14A=1, Q14I=34, Q14E=7290, Q15A=4, Q15I=12, Q15E=6587, Q16A=4, Q16I=22, Q16E=3627, Q17A=4, Q17I=38, Q17E=2905, Q18A=2, Q18I=18, Q18E=2998, Q19A=2, Q19I=8, Q19E=10233, Q20A=1, Q20I=16, Q20E=4258, Q21A=4, Q21I=28, Q21E=2888, Q22A=3, Q22I=4, Q22E=59592, Q23A=2, Q23I=3, Q23E=11732, Q24A=4, Q24I=2, Q24E=8834, Q25A=2, Q25I=29, Q25E=7358, Q26A=1, Q26I=30, Q26E=4928, Q27A=2, Q27I=15, Q27E=3036, Q28A=1, Q28I=19, Q28E=4127, Q29A=2, Q29I=37, Q29E=3934, Q30A=2, Q30I=26, Q30E=10782, Q31A=4, Q31I=1, Q31E=8273, Q32A=3, Q32I=39, Q32E=3501, Q33A=1, Q33I=27, Q33E=3824, Q34A=4, Q34I=25, Q34E=2141, Q35A=3, Q35I=6, Q35E=17461, Q36A=4, Q36I=24, Q36E=1557, Q37A=4, Q37I=40, Q37E=4446, Q38A=4, Q38I=42, Q38E=1883, Q39A=2, Q39I=35, Q39E=5790, Q40A=2, Q40I=14, Q40E=4432, Q41A=1, Q41I=20, Q41E=2203, Q42A=4, Q42I=31, Q42E=5768, country='PL', source=2, introelapse=5, testelapse=271, surveyelapse=122, TIPI1=2, TIPI2=5, TIPI3=2, TIPI4=2, TIPI5=5, TIPI6=6, TIPI7=5, TIPI8=5, TIPI9=3, TIPI10=2, VCL1=1, VCL2=0, VCL3=0, VCL4=1, VCL5=1, VCL6=0, VCL7=0, VCL8=0, VCL9=0, VCL10=0, VCL11=1, VCL12=0, VCL13=0, VCL14=1, VCL15=1, VCL16=1, education=2, urban=3, gender=2, engnat=2, age=17, screensize=2, uniquenetworklocation=1, hand=1, religion=4, orientation=3, race=60, voted=1, married=1, familysize=3, major=None)]"
      ]
     },
     "execution_count": 83,
     "metadata": {},
     "output_type": "execute_result"
    }
   ],
   "source": [
    "df_ps3.head(3)"
   ]
  },
  {
   "cell_type": "markdown",
   "id": "a8a4b485",
   "metadata": {},
   "source": [
    "### Select 1 column"
   ]
  },
  {
   "cell_type": "code",
   "execution_count": 76,
   "id": "54ddb010",
   "metadata": {},
   "outputs": [
    {
     "name": "stdout",
     "output_type": "stream",
     "text": [
      "+-------+\n",
      "|country|\n",
      "+-------+\n",
      "|     IN|\n",
      "|     US|\n",
      "|     PL|\n",
      "|     US|\n",
      "|     MY|\n",
      "|     US|\n",
      "|     MX|\n",
      "|     GB|\n",
      "|     US|\n",
      "|     DE|\n",
      "|     US|\n",
      "|     US|\n",
      "|     US|\n",
      "|     EE|\n",
      "|     US|\n",
      "|     US|\n",
      "|     US|\n",
      "|     GB|\n",
      "|     US|\n",
      "|     US|\n",
      "+-------+\n",
      "only showing top 20 rows\n",
      "\n"
     ]
    }
   ],
   "source": [
    "df_ps3.select('country').show()"
   ]
  },
  {
   "cell_type": "markdown",
   "id": "eb593d52",
   "metadata": {},
   "source": [
    "### Select 2 columns"
   ]
  },
  {
   "cell_type": "code",
   "execution_count": 78,
   "id": "3a54977e",
   "metadata": {},
   "outputs": [
    {
     "name": "stdout",
     "output_type": "stream",
     "text": [
      "+-------+------+\n",
      "|country|gender|\n",
      "+-------+------+\n",
      "|     IN|     2|\n",
      "|     US|     2|\n",
      "|     PL|     2|\n",
      "|     US|     2|\n",
      "|     MY|     2|\n",
      "|     US|     2|\n",
      "|     MX|     2|\n",
      "|     GB|     2|\n",
      "|     US|     1|\n",
      "|     DE|     2|\n",
      "|     US|     1|\n",
      "|     US|     2|\n",
      "|     US|     2|\n",
      "|     EE|     1|\n",
      "|     US|     1|\n",
      "|     US|     2|\n",
      "|     US|     2|\n",
      "|     GB|     2|\n",
      "|     US|     1|\n",
      "|     US|     2|\n",
      "+-------+------+\n",
      "only showing top 20 rows\n",
      "\n"
     ]
    }
   ],
   "source": [
    "df_ps3.select(['country', 'gender']).show()"
   ]
  },
  {
   "cell_type": "code",
   "execution_count": 79,
   "id": "b59c5294",
   "metadata": {},
   "outputs": [
    {
     "data": {
      "text/plain": [
       "Column<'country'>"
      ]
     },
     "execution_count": 79,
     "metadata": {},
     "output_type": "execute_result"
    }
   ],
   "source": [
    "df_ps3['country']"
   ]
  },
  {
   "cell_type": "markdown",
   "id": "70b02715",
   "metadata": {},
   "source": [
    "### check data types"
   ]
  },
  {
   "cell_type": "code",
   "execution_count": 80,
   "id": "201bce1d",
   "metadata": {},
   "outputs": [
    {
     "data": {
      "text/plain": [
       "[('Q1A', 'int'),\n",
       " ('Q1I', 'int'),\n",
       " ('Q1E', 'int'),\n",
       " ('Q2A', 'int'),\n",
       " ('Q2I', 'int'),\n",
       " ('Q2E', 'int'),\n",
       " ('Q3A', 'int'),\n",
       " ('Q3I', 'int'),\n",
       " ('Q3E', 'int'),\n",
       " ('Q4A', 'int'),\n",
       " ('Q4I', 'int'),\n",
       " ('Q4E', 'int'),\n",
       " ('Q5A', 'int'),\n",
       " ('Q5I', 'int'),\n",
       " ('Q5E', 'int'),\n",
       " ('Q6A', 'int'),\n",
       " ('Q6I', 'int'),\n",
       " ('Q6E', 'int'),\n",
       " ('Q7A', 'int'),\n",
       " ('Q7I', 'int'),\n",
       " ('Q7E', 'int'),\n",
       " ('Q8A', 'int'),\n",
       " ('Q8I', 'int'),\n",
       " ('Q8E', 'int'),\n",
       " ('Q9A', 'int'),\n",
       " ('Q9I', 'int'),\n",
       " ('Q9E', 'int'),\n",
       " ('Q10A', 'int'),\n",
       " ('Q10I', 'int'),\n",
       " ('Q10E', 'int'),\n",
       " ('Q11A', 'int'),\n",
       " ('Q11I', 'int'),\n",
       " ('Q11E', 'int'),\n",
       " ('Q12A', 'int'),\n",
       " ('Q12I', 'int'),\n",
       " ('Q12E', 'int'),\n",
       " ('Q13A', 'int'),\n",
       " ('Q13I', 'int'),\n",
       " ('Q13E', 'int'),\n",
       " ('Q14A', 'int'),\n",
       " ('Q14I', 'int'),\n",
       " ('Q14E', 'int'),\n",
       " ('Q15A', 'int'),\n",
       " ('Q15I', 'int'),\n",
       " ('Q15E', 'int'),\n",
       " ('Q16A', 'int'),\n",
       " ('Q16I', 'int'),\n",
       " ('Q16E', 'int'),\n",
       " ('Q17A', 'int'),\n",
       " ('Q17I', 'int'),\n",
       " ('Q17E', 'int'),\n",
       " ('Q18A', 'int'),\n",
       " ('Q18I', 'int'),\n",
       " ('Q18E', 'int'),\n",
       " ('Q19A', 'int'),\n",
       " ('Q19I', 'int'),\n",
       " ('Q19E', 'int'),\n",
       " ('Q20A', 'int'),\n",
       " ('Q20I', 'int'),\n",
       " ('Q20E', 'int'),\n",
       " ('Q21A', 'int'),\n",
       " ('Q21I', 'int'),\n",
       " ('Q21E', 'int'),\n",
       " ('Q22A', 'int'),\n",
       " ('Q22I', 'int'),\n",
       " ('Q22E', 'int'),\n",
       " ('Q23A', 'int'),\n",
       " ('Q23I', 'int'),\n",
       " ('Q23E', 'int'),\n",
       " ('Q24A', 'int'),\n",
       " ('Q24I', 'int'),\n",
       " ('Q24E', 'int'),\n",
       " ('Q25A', 'int'),\n",
       " ('Q25I', 'int'),\n",
       " ('Q25E', 'int'),\n",
       " ('Q26A', 'int'),\n",
       " ('Q26I', 'int'),\n",
       " ('Q26E', 'int'),\n",
       " ('Q27A', 'int'),\n",
       " ('Q27I', 'int'),\n",
       " ('Q27E', 'int'),\n",
       " ('Q28A', 'int'),\n",
       " ('Q28I', 'int'),\n",
       " ('Q28E', 'int'),\n",
       " ('Q29A', 'int'),\n",
       " ('Q29I', 'int'),\n",
       " ('Q29E', 'int'),\n",
       " ('Q30A', 'int'),\n",
       " ('Q30I', 'int'),\n",
       " ('Q30E', 'int'),\n",
       " ('Q31A', 'int'),\n",
       " ('Q31I', 'int'),\n",
       " ('Q31E', 'int'),\n",
       " ('Q32A', 'int'),\n",
       " ('Q32I', 'int'),\n",
       " ('Q32E', 'int'),\n",
       " ('Q33A', 'int'),\n",
       " ('Q33I', 'int'),\n",
       " ('Q33E', 'int'),\n",
       " ('Q34A', 'int'),\n",
       " ('Q34I', 'int'),\n",
       " ('Q34E', 'int'),\n",
       " ('Q35A', 'int'),\n",
       " ('Q35I', 'int'),\n",
       " ('Q35E', 'int'),\n",
       " ('Q36A', 'int'),\n",
       " ('Q36I', 'int'),\n",
       " ('Q36E', 'int'),\n",
       " ('Q37A', 'int'),\n",
       " ('Q37I', 'int'),\n",
       " ('Q37E', 'int'),\n",
       " ('Q38A', 'int'),\n",
       " ('Q38I', 'int'),\n",
       " ('Q38E', 'int'),\n",
       " ('Q39A', 'int'),\n",
       " ('Q39I', 'int'),\n",
       " ('Q39E', 'int'),\n",
       " ('Q40A', 'int'),\n",
       " ('Q40I', 'int'),\n",
       " ('Q40E', 'int'),\n",
       " ('Q41A', 'int'),\n",
       " ('Q41I', 'int'),\n",
       " ('Q41E', 'int'),\n",
       " ('Q42A', 'int'),\n",
       " ('Q42I', 'int'),\n",
       " ('Q42E', 'int'),\n",
       " ('country', 'string'),\n",
       " ('source', 'int'),\n",
       " ('introelapse', 'int'),\n",
       " ('testelapse', 'int'),\n",
       " ('surveyelapse', 'int'),\n",
       " ('TIPI1', 'int'),\n",
       " ('TIPI2', 'int'),\n",
       " ('TIPI3', 'int'),\n",
       " ('TIPI4', 'int'),\n",
       " ('TIPI5', 'int'),\n",
       " ('TIPI6', 'int'),\n",
       " ('TIPI7', 'int'),\n",
       " ('TIPI8', 'int'),\n",
       " ('TIPI9', 'int'),\n",
       " ('TIPI10', 'int'),\n",
       " ('VCL1', 'int'),\n",
       " ('VCL2', 'int'),\n",
       " ('VCL3', 'int'),\n",
       " ('VCL4', 'int'),\n",
       " ('VCL5', 'int'),\n",
       " ('VCL6', 'int'),\n",
       " ('VCL7', 'int'),\n",
       " ('VCL8', 'int'),\n",
       " ('VCL9', 'int'),\n",
       " ('VCL10', 'int'),\n",
       " ('VCL11', 'int'),\n",
       " ('VCL12', 'int'),\n",
       " ('VCL13', 'int'),\n",
       " ('VCL14', 'int'),\n",
       " ('VCL15', 'int'),\n",
       " ('VCL16', 'int'),\n",
       " ('education', 'int'),\n",
       " ('urban', 'int'),\n",
       " ('gender', 'int'),\n",
       " ('engnat', 'int'),\n",
       " ('age', 'int'),\n",
       " ('screensize', 'int'),\n",
       " ('uniquenetworklocation', 'int'),\n",
       " ('hand', 'int'),\n",
       " ('religion', 'int'),\n",
       " ('orientation', 'int'),\n",
       " ('race', 'int'),\n",
       " ('voted', 'int'),\n",
       " ('married', 'int'),\n",
       " ('familysize', 'int'),\n",
       " ('major', 'string')]"
      ]
     },
     "execution_count": 80,
     "metadata": {},
     "output_type": "execute_result"
    }
   ],
   "source": [
    "df_ps3.dtypes"
   ]
  },
  {
   "cell_type": "markdown",
   "id": "413df0fb",
   "metadata": {},
   "source": [
    "### Check describe"
   ]
  },
  {
   "cell_type": "code",
   "execution_count": 82,
   "id": "1de828cd",
   "metadata": {},
   "outputs": [
    {
     "name": "stdout",
     "output_type": "stream",
     "text": [
      "+-------+------------------+------------------+----------------+------------------+------------------+------------------+------------------+------------------+------------------+------------------+------------------+-----------------+------------------+------------------+------------------+------------------+-----------------+-----------------+------------------+------------------+------------------+------------------+------------------+-----------------+------------------+------------------+------------------+-----------------+------------------+------------------+------------------+------------------+-----------------+------------------+------------------+------------------+------------------+------------------+------------------+------------------+------------------+------------------+------------------+------------------+-----------------+------------------+------------------+------------------+------------------+------------------+-----------------+------------------+-----------------+-----------------+------------------+------------------+------------------+------------------+------------------+------------------+------------------+------------------+------------------+-----------------+-----------------+-----------------+------------------+------------------+-----------------+------------------+------------------+------------------+------------------+------------------+------------------+------------------+------------------+------------------+------------------+------------------+------------------+------------------+------------------+-----------------+------------------+------------------+------------------+------------------+------------------+-----------------+------------------+------------------+-----------------+------------------+------------------+------------------+------------------+-----------------+-----------------+------------------+------------------+------------------+------------------+-----------------+------------------+------------------+------------------+-----------------+------------------+------------------+-----------------+-----------------+------------------+-----------------+-----------------+------------------+------------------+------------------+------------------+------------------+------------------+------------------+-----------------+------------------+------------------+-----------------+-------+------------------+-----------------+------------------+------------------+------------------+------------------+-----------------+------------------+------------------+------------------+-----------------+------------------+------------------+------------------+-------------------+------------------+-------------------+-------------------+-------------------+-------------------+-------------------+-------------------+-------------------+------------------+-------------------+------------------+-------------------+-------------------+-------------------+-------------------+------------------+------------------+-------------------+------------------+------------------+-------------------+---------------------+-------------------+-----------------+------------------+------------------+------------------+------------------+------------------+-----------------+\n",
      "|summary|               Q1A|               Q1I|             Q1E|               Q2A|               Q2I|               Q2E|               Q3A|               Q3I|               Q3E|               Q4A|               Q4I|              Q4E|               Q5A|               Q5I|               Q5E|               Q6A|              Q6I|              Q6E|               Q7A|               Q7I|               Q7E|               Q8A|               Q8I|              Q8E|               Q9A|               Q9I|               Q9E|             Q10A|              Q10I|              Q10E|              Q11A|              Q11I|             Q11E|              Q12A|              Q12I|              Q12E|              Q13A|              Q13I|              Q13E|              Q14A|              Q14I|              Q14E|              Q15A|              Q15I|             Q15E|              Q16A|              Q16I|              Q16E|              Q17A|              Q17I|             Q17E|              Q18A|             Q18I|             Q18E|              Q19A|              Q19I|              Q19E|              Q20A|              Q20I|              Q20E|              Q21A|              Q21I|              Q21E|             Q22A|             Q22I|             Q22E|              Q23A|              Q23I|             Q23E|              Q24A|              Q24I|              Q24E|              Q25A|              Q25I|              Q25E|              Q26A|              Q26I|              Q26E|              Q27A|              Q27I|              Q27E|              Q28A|              Q28I|             Q28E|              Q29A|              Q29I|              Q29E|              Q30A|              Q30I|             Q30E|              Q31A|              Q31I|             Q31E|              Q32A|              Q32I|              Q32E|              Q33A|             Q33I|             Q33E|              Q34A|              Q34I|              Q34E|              Q35A|             Q35I|              Q35E|              Q36A|              Q36I|             Q36E|              Q37A|              Q37I|             Q37E|             Q38A|              Q38I|             Q38E|             Q39A|              Q39I|              Q39E|              Q40A|              Q40I|              Q40E|              Q41A|              Q41I|             Q41E|              Q42A|              Q42I|             Q42E|country|            source|      introelapse|        testelapse|      surveyelapse|             TIPI1|             TIPI2|            TIPI3|             TIPI4|             TIPI5|             TIPI6|            TIPI7|             TIPI8|             TIPI9|            TIPI10|               VCL1|              VCL2|               VCL3|               VCL4|               VCL5|               VCL6|               VCL7|               VCL8|               VCL9|             VCL10|              VCL11|             VCL12|              VCL13|              VCL14|              VCL15|              VCL16|         education|             urban|             gender|            engnat|               age|         screensize|uniquenetworklocation|               hand|         religion|       orientation|              race|             voted|           married|        familysize|            major|\n",
      "+-------+------------------+------------------+----------------+------------------+------------------+------------------+------------------+------------------+------------------+------------------+------------------+-----------------+------------------+------------------+------------------+------------------+-----------------+-----------------+------------------+------------------+------------------+------------------+------------------+-----------------+------------------+------------------+------------------+-----------------+------------------+------------------+------------------+------------------+-----------------+------------------+------------------+------------------+------------------+------------------+------------------+------------------+------------------+------------------+------------------+------------------+-----------------+------------------+------------------+------------------+------------------+------------------+-----------------+------------------+-----------------+-----------------+------------------+------------------+------------------+------------------+------------------+------------------+------------------+------------------+------------------+-----------------+-----------------+-----------------+------------------+------------------+-----------------+------------------+------------------+------------------+------------------+------------------+------------------+------------------+------------------+------------------+------------------+------------------+------------------+------------------+------------------+-----------------+------------------+------------------+------------------+------------------+------------------+-----------------+------------------+------------------+-----------------+------------------+------------------+------------------+------------------+-----------------+-----------------+------------------+------------------+------------------+------------------+-----------------+------------------+------------------+------------------+-----------------+------------------+------------------+-----------------+-----------------+------------------+-----------------+-----------------+------------------+------------------+------------------+------------------+------------------+------------------+------------------+-----------------+------------------+------------------+-----------------+-------+------------------+-----------------+------------------+------------------+------------------+------------------+-----------------+------------------+------------------+------------------+-----------------+------------------+------------------+------------------+-------------------+------------------+-------------------+-------------------+-------------------+-------------------+-------------------+-------------------+-------------------+------------------+-------------------+------------------+-------------------+-------------------+-------------------+-------------------+------------------+------------------+-------------------+------------------+------------------+-------------------+---------------------+-------------------+-----------------+------------------+------------------+------------------+------------------+------------------+-----------------+\n",
      "|  count|             39775|             39775|           39775|             39775|             39775|             39775|             39775|             39775|             39775|             39775|             39775|            39775|             39775|             39775|             39775|             39775|            39775|            39775|             39775|             39775|             39775|             39775|             39775|            39775|             39775|             39775|             39775|            39775|             39775|             39775|             39775|             39775|            39775|             39775|             39775|             39775|             39775|             39775|             39775|             39775|             39775|             39775|             39775|             39775|            39775|             39775|             39775|             39775|             39775|             39775|            39775|             39775|            39775|            39775|             39775|             39775|             39775|             39775|             39775|             39775|             39775|             39775|             39775|            39775|            39775|            39775|             39775|             39775|            39775|             39775|             39775|             39775|             39775|             39775|             39775|             39775|             39775|             39775|             39775|             39775|             39775|             39775|             39775|            39775|             39775|             39775|             39775|             39775|             39775|            39775|             39775|             39775|            39775|             39775|             39775|             39775|             39775|            39775|            39775|             39775|             39775|             39775|             39775|            39775|             39775|             39775|             39775|            39775|             39775|             39775|            39775|            39775|             39775|            39775|            39775|             39775|             39775|             39775|             39775|             39775|             39775|             39775|            39775|             39775|             39775|            39775|  39775|             39775|            39775|             39775|             39775|             39775|             39775|            39775|             39775|             39775|             39775|            39775|             39775|             39775|             39775|              39775|             39775|              39775|              39775|              39775|              39775|              39775|              39775|              39775|             39775|              39775|             39775|              39775|              39775|              39775|              39775|             39775|             39775|              39775|             39775|             39775|              39775|                39775|              39775|            39775|             39775|             39775|             39775|             39775|             39775|            28469|\n",
      "|   mean|2.6194846008799497|21.555977372721557| 6970.5907982401|2.1722690131992457|21.248070395977372| 5332.375839094909|2.2260967944688876|21.583004399748585| 7426.446084223759|1.9501697045883093|21.499836580766814|7128.728422375864| 2.521458202388435|21.492118164676306|5919.3059459459455|2.5402137020741673|21.56286612193589|5724.097423004399|1.9249277184160904|21.528422375864235|  9776.97126335638|2.4804274041483345|21.569226901319926|4444.626951602766| 2.669591451917033|21.582778126964172| 18330.82923947203|2.447316153362665| 21.41757385292269| 9157.493651791327|2.8032935260842238|21.434041483343808|5490.151577624136|2.4256693903205533| 21.48580766813325|6570.4693148962915|2.7845380263984914| 21.50144563167819|3931.8717787554997|2.5802639849151476| 21.57179132620993|10348.746851037084|1.8269013199245758|  21.5016719044626|5243.594142049025|2.5195725958516655| 21.45948460087995| 6446.743406662476|2.6586046511627908|21.497020741671903|5197.917762413576|2.4775361407919547|21.53068510370836|7293.520075424261|1.9462979258328095|21.549993714644877|11244.458378378378| 2.323042111879321|21.519899434318038| 4965.477335009428|2.3495914519170333| 21.56698931489629| 5596.289553739786|2.344487743557511|21.51622878692646|6865.094305468259|1.5622878692646134|21.479245757385293|4603.325229415462|  2.43710873664362|21.531263356379636| 8142.970131992458|2.1843117536140793| 21.56319296040226|14082.904789440603|2.6585795097423004|21.445179132620993| 5336.940138277812|2.6123444374607163|21.527366436203646| 8448.038893777499| 2.217272155876807|21.495864236329354|8183.670194846009|2.6532998114393465|21.462602137020742| 8493.555524827152|2.3923318667504714| 21.45254556882464|9719.104512884978|2.3768196103079826|21.480100565681962|7069.761282212445| 2.445732243871779| 21.38740414833438|12721.997385292269|2.4142049025769956|21.45247014456317|5272.239145191704|2.6339912005028285| 21.49757385292269|4871.6842237586425|2.3027781269641734|21.57357636706474|14105.870571967316|2.2683343808925205| 21.39808925204274|4335.748460087995| 2.373551225644249|21.555625392834695|6811.022954116907|2.392759270898806|21.530056568196102|5838.114267756128|2.454154619736015|21.537247014456316|  8472.12407291012| 2.650861093651791|21.509591451917032|10274.099761156505|1.9661596480201131|21.483394091766186|5540.696216216216| 2.680100565681961|21.462677561282213|8300.695210559397|   null|0.9122564424890006|2432.594167190446|2684.8428409805156| 4673.672407291012|3.7860967944688877| 4.192884978001257|4.742275298554368| 5.172922690131992| 4.934330609679447| 4.851539912005029|5.273639220615965|  4.28095537397863|3.6495034569453173|3.7310622250157133| 0.8123695788812068|0.5798617221873036|0.15235700817096165| 0.8668510370835952| 0.6848271527341295|0.04017598994343181|0.08359522313010685|0.16930232558139535|0.04314267756128221|0.8705971087366436|0.07368950345694532|0.0842740414833438| 0.2914644877435575| 0.5657071024512885| 0.8469641734758013| 0.9308862350722816|2.5038340666247643|2.2202639849151478| 1.7895411690760528|1.6358516656191076|23.612168447517284| 1.2745191703331238|   1.2000251414204903| 1.1351602765556255|7.555851665619107|1.6429918290383407|31.312884978001257|1.7057950974230045|1.1595474544311755|3.5102702702702704|             22.4|\n",
      "| stddev|1.0321173577237228|12.133620553412285|86705.1319955828|  1.11156254698536|12.125288037051648|26513.611044106045|  1.03852612847189| 12.11563653462611|158702.35287411703|1.0422178470899592| 12.15209647380435|75984.85825818441|1.0699081550097735|12.147340615164852| 64282.06709497016| 1.049671823180392|12.09591966413872|50195.83101401498|1.0335284598240708|12.143732842918899|442758.75647168595| 1.052435687490859|12.094860157179715|22916.18231358914|1.0678657109276377|12.129867493007602|1409724.4437552884|1.139349877118242|12.111705315056964|418635.46894030937| 1.048995436241151|12.135041506258444|54386.16223686045|1.0659595267592286|12.092363963048344|146832.81270188044|1.0737791821139693|12.075819028593818| 28273.88527356673|1.0797801432911183|12.118492715178595|381949.24450467335|0.9857589011238941|12.117062020361573|40041.61216156936| 1.110826065841345|12.132515394145052|101679.31489278257|1.1570626603835215| 12.13072577769136|48798.56409632897|1.0676998017898265|12.06914289660764|222170.5988714713|1.0719489636265216|12.132113237480128|  337352.203883303|1.1155883802345337| 12.17278515112871|32686.865148041514|1.1660964944512702|12.106771828006028|153392.49734365125|1.029775312186182|12.10085597798605|38291.87626054522|0.8618483139825717| 12.10778454788222| 16441.5598740873|1.0508089333026693|12.079733841401277|251854.21714059892|1.0795508059057175|12.109259095537713| 378025.9323650599|1.0667790505412145|12.109943516096937|57593.563228358384|1.0502741787676115|12.141416230138482|332784.59976599243|1.0741636169420392| 12.10869242253304|759274.9489275287|1.0581356902253418|12.172014845888455|267420.55507708644|1.0779059138127534|12.154287737577764|179240.4806956435| 1.043796642841016|12.105937739650173|54198.00405636013|1.0176277687187258|12.122158895883032| 371040.0707898919|1.0507436927196445|12.13494950203391|51466.98643300549|1.1512075935033947|12.120966281623826| 108623.4011979053|0.9975663429379731|12.13350587506675|376000.37863962736|1.1075683169115538|12.090291807933525|30703.41986032308|1.1398619914339232|12.104137693949262|76601.33067597524|1.187423353778965|12.147127985358157| 301126.023799848|1.018831967842024|12.118880486940723|168614.11572764037|1.1076073703162435|12.123970036290425| 320856.8592503834|1.0462533260072344| 12.11488848483096| 59782.8667001645|1.0325277388021201|12.143414753254374| 77650.7786891427|   null|0.7975514236408847|138313.7906710712| 148241.8173280507|184217.89873787708|1.9026709314508843|1.8231523823481346|1.803469779473431|1.8252642065398554|1.7229288208862445|1.9040858428330116|1.625676698418958|1.9690962555840026|  1.83050537541772|1.8640510435824265|0.39042166752516944|0.4935871052702495|0.35937111345543776|0.33973992773055245|0.46459051889353564|0.19637425824253713| 0.2767832868124657| 0.3750234447184227| 0.2031807688560288|0.3356495425945729|0.26126820839445253| 0.277801849662787|0.45444266116546045|0.49567000479323087|0.36002655614979584|0.25365068497993537|0.8854143087478633|0.8047613630853686|0.44418008766429246|0.4839058998588636| 21.58172229985954|0.44627727110350385|   0.4000238834468096|0.40029965498208264|3.554394803590685|1.3513622816999429|25.871271749318943|0.4733883194393861|0.4458823599903505|2.1415182305409406|30.82693627333083|\n",
      "|    min|                 1|                 1|             180|                 1|                 1|               176|                 1|                 1|            -10814|                 1|                 1|              176|                 1|                 1|               178|                 1|                1|              178|                 1|                 1|               178|                 1|                 1|              179|                 1|                 1|               177|                1|                 1|            -19695|                 1|                 1|              180|                 1|                 1|               177|                 1|                 1|               177|                 1|                 1|               180|                 1|                 1|            -8195|                 1|                 1|              -493|                 1|                 1|              177|                 1|                1|              179|                 1|                 1|               180|                 1|                 1|               177|                 1|                 1|             -5125|                1|                1|              178|                 1|                 1|              177|                 1|                 1|               176|                 1|                 1|               180|                 1|                 1|               179|                 1|                 1|               176|                 1|                 1|              177|                 1|                 1|               178|                 1|                 1|            -4328|                 1|                 1|              177|                 1|                 1|               180|                 1|                1|              179|                 1|                 1|             -1615|                 1|                1|               183|                 1|                 1|              178|                 1|                 1|             -165|                1|                 1|            -8921|                1|                 1|              -144|                 1|                 1|               178|                 1|                 1|             -159|                 1|                 1|              178|     AE|                 0|                0|                12|                 1|                 0|                 0|                0|                 0|                 0|                 0|                0|                 0|                 0|                 0|                  0|                 0|                  0|                  0|                  0|                  0|                  0|                  0|                  0|                 0|                  0|                 0|                  0|                  0|                  0|                  0|                 0|                 0|                  0|                 0|                13|                  1|                    1|                  0|                0|                 0|                10|                 0|                 0|                 0|                 |\n",
      "|    max|                 4|                42|        12102282|                 4|                42|           2161057|                 4|                42|          28582689|                 4|                42|          9488330|                 4|                42|           9467497|                 4|               42|          5426858|                 4|                42|          74124488|                 4|                42|          2103626|                 4|                42|         279772213|                4|                42|          74471124|                 4|                42|          6201142|                 4|                42|          28535639|                 4|                42|           4095293|                 4|                42|          75366349|                 4|                42|          6211384|                 4|                42|          18593374|                 4|                42|          8804235|                 4|               42|         43266690|                 4|                42|          53230195|                 4|                42|           4950647|                 4|                42|          29328385|                4|               42|          3464030|                 4|                42|          1609274|                 4|                42|          49175189|                 4|                42|          65356830|                 4|                42|          10010729|                 4|                42|          60807360|                 4|                42|        151281923|                 4|                42|          47570142|                 4|                42|         34265188|                 4|                42|          9711339|                 4|                42|          39791945|                 4|               42|          8658903|                 4|                42|          21328973|                 4|               42|          72970668|                 4|                42|          4133123|                 4|                42|         12710289|                4|                42|         59401008|                4|                42|          31773217|                 4|                42|          56297555|                 4|                42|          8021110|                 4|                42|          7750098|     ZW|                 2|         20829735|          20829721|          20828454|                 7|                 7|                7|                 7|                 7|                 7|                7|                 7|                 7|                 7|                  1|                 1|                  1|                  1|                  1|                  1|                  1|                  1|                  1|                 1|                  1|                 1|                  1|                  1|                  1|                  1|                 4|                 3|                  3|                 2|              1998|                  2|                    2|                  3|               12|                 5|                70|                 2|                 3|               133|          zoology|\n",
      "+-------+------------------+------------------+----------------+------------------+------------------+------------------+------------------+------------------+------------------+------------------+------------------+-----------------+------------------+------------------+------------------+------------------+-----------------+-----------------+------------------+------------------+------------------+------------------+------------------+-----------------+------------------+------------------+------------------+-----------------+------------------+------------------+------------------+------------------+-----------------+------------------+------------------+------------------+------------------+------------------+------------------+------------------+------------------+------------------+------------------+------------------+-----------------+------------------+------------------+------------------+------------------+------------------+-----------------+------------------+-----------------+-----------------+------------------+------------------+------------------+------------------+------------------+------------------+------------------+------------------+------------------+-----------------+-----------------+-----------------+------------------+------------------+-----------------+------------------+------------------+------------------+------------------+------------------+------------------+------------------+------------------+------------------+------------------+------------------+------------------+------------------+------------------+-----------------+------------------+------------------+------------------+------------------+------------------+-----------------+------------------+------------------+-----------------+------------------+------------------+------------------+------------------+-----------------+-----------------+------------------+------------------+------------------+------------------+-----------------+------------------+------------------+------------------+-----------------+------------------+------------------+-----------------+-----------------+------------------+-----------------+-----------------+------------------+------------------+------------------+------------------+------------------+------------------+------------------+-----------------+------------------+------------------+-----------------+-------+------------------+-----------------+------------------+------------------+------------------+------------------+-----------------+------------------+------------------+------------------+-----------------+------------------+------------------+------------------+-------------------+------------------+-------------------+-------------------+-------------------+-------------------+-------------------+-------------------+-------------------+------------------+-------------------+------------------+-------------------+-------------------+-------------------+-------------------+------------------+------------------+-------------------+------------------+------------------+-------------------+---------------------+-------------------+-----------------+------------------+------------------+------------------+------------------+------------------+-----------------+\n",
      "\n"
     ]
    }
   ],
   "source": [
    "df_ps3.describe().show()"
   ]
  },
  {
   "cell_type": "code",
   "execution_count": 97,
   "id": "7e9e6faa",
   "metadata": {},
   "outputs": [],
   "source": [
    "df_ps4 = df_ps3.select(['country', 'race', 'religion', 'familysize'])"
   ]
  },
  {
   "cell_type": "code",
   "execution_count": 101,
   "id": "41490c77",
   "metadata": {},
   "outputs": [
    {
     "name": "stdout",
     "output_type": "stream",
     "text": [
      "+-------+-------+------------------+-----------------+------------------+\n",
      "|summary|country|              race|         religion|        familysize|\n",
      "+-------+-------+------------------+-----------------+------------------+\n",
      "|  count|  39775|             39775|            39775|             39775|\n",
      "|   mean|   null|31.312884978001257|7.555851665619107|3.5102702702702704|\n",
      "| stddev|   null|25.871271749318943|3.554394803590685|2.1415182305409406|\n",
      "|    min|     AE|                10|                0|                 0|\n",
      "|    max|     ZW|                70|               12|               133|\n",
      "+-------+-------+------------------+-----------------+------------------+\n",
      "\n"
     ]
    }
   ],
   "source": [
    "df_ps4.describe().show()"
   ]
  },
  {
   "cell_type": "markdown",
   "id": "ff75d4b4",
   "metadata": {},
   "source": [
    "### Adding columns"
   ]
  },
  {
   "cell_type": "code",
   "execution_count": 115,
   "id": "6ca9f292",
   "metadata": {},
   "outputs": [
    {
     "name": "stdout",
     "output_type": "stream",
     "text": [
      "+-------+----+--------+----------+---------------+\n",
      "|country|race|religion|familysize|Family Size + 1|\n",
      "+-------+----+--------+----------+---------------+\n",
      "|     IN|  10|      12|         2|              3|\n",
      "|     US|  70|       7|         4|              5|\n",
      "|     PL|  60|       4|         3|              4|\n",
      "|     US|  70|       4|         5|              6|\n",
      "|     MY|  10|      10|         4|              5|\n",
      "|     US|  70|       4|         4|              5|\n",
      "|     MX|  60|       7|         4|              5|\n",
      "|     GB|  60|       2|         2|              3|\n",
      "|     US|  70|      12|         4|              5|\n",
      "|     DE|  60|       2|         3|              4|\n",
      "|     US|  60|       6|         1|              2|\n",
      "|     US|  60|       6|         2|              3|\n",
      "|     US|  60|       1|         2|              3|\n",
      "|     EE|  60|      12|         5|              6|\n",
      "|     US|  60|       1|         2|              3|\n",
      "|     US|  60|       1|         1|              2|\n",
      "|     US|  60|       7|         2|              3|\n",
      "|     GB|  60|      12|         5|              6|\n",
      "|     US|  60|       2|         1|              2|\n",
      "|     US|  50|       4|         2|              3|\n",
      "+-------+----+--------+----------+---------------+\n",
      "only showing top 20 rows\n",
      "\n"
     ]
    }
   ],
   "source": [
    "df_family_plus = df_ps4.withColumn('Family Size + 1', df_ps4['familysize'] + 1)\n",
    "df_ps4.withColumn('Family Size + 1', df_ps4['familysize'] + 1).show()"
   ]
  },
  {
   "cell_type": "markdown",
   "id": "3c8e40ab",
   "metadata": {},
   "source": [
    "### Drop Columns"
   ]
  },
  {
   "cell_type": "code",
   "execution_count": 116,
   "id": "8d227e22",
   "metadata": {},
   "outputs": [
    {
     "name": "stdout",
     "output_type": "stream",
     "text": [
      "+-------+----+--------+----------+\n",
      "|country|race|religion|familysize|\n",
      "+-------+----+--------+----------+\n",
      "|     IN|  10|      12|         2|\n",
      "|     US|  70|       7|         4|\n",
      "|     PL|  60|       4|         3|\n",
      "|     US|  70|       4|         5|\n",
      "|     MY|  10|      10|         4|\n",
      "|     US|  70|       4|         4|\n",
      "|     MX|  60|       7|         4|\n",
      "|     GB|  60|       2|         2|\n",
      "|     US|  70|      12|         4|\n",
      "|     DE|  60|       2|         3|\n",
      "|     US|  60|       6|         1|\n",
      "|     US|  60|       6|         2|\n",
      "|     US|  60|       1|         2|\n",
      "|     EE|  60|      12|         5|\n",
      "|     US|  60|       1|         2|\n",
      "|     US|  60|       1|         1|\n",
      "|     US|  60|       7|         2|\n",
      "|     GB|  60|      12|         5|\n",
      "|     US|  60|       2|         1|\n",
      "|     US|  50|       4|         2|\n",
      "+-------+----+--------+----------+\n",
      "only showing top 20 rows\n",
      "\n"
     ]
    }
   ],
   "source": [
    "df_family_plus = df_family_plus.drop('Family Size + 1')\n",
    "df_family_plus.show()"
   ]
  },
  {
   "cell_type": "markdown",
   "id": "33537bed",
   "metadata": {},
   "source": [
    "### Rename the columns"
   ]
  },
  {
   "cell_type": "code",
   "execution_count": 117,
   "id": "dd1d650c",
   "metadata": {
    "scrolled": true
   },
   "outputs": [
    {
     "name": "stdout",
     "output_type": "stream",
     "text": [
      "+-------+----+--------+-----------+\n",
      "|country|race|religion|Family Size|\n",
      "+-------+----+--------+-----------+\n",
      "|     IN|  10|      12|          2|\n",
      "|     US|  70|       7|          4|\n",
      "|     PL|  60|       4|          3|\n",
      "|     US|  70|       4|          5|\n",
      "|     MY|  10|      10|          4|\n",
      "|     US|  70|       4|          4|\n",
      "|     MX|  60|       7|          4|\n",
      "|     GB|  60|       2|          2|\n",
      "|     US|  70|      12|          4|\n",
      "|     DE|  60|       2|          3|\n",
      "|     US|  60|       6|          1|\n",
      "|     US|  60|       6|          2|\n",
      "|     US|  60|       1|          2|\n",
      "|     EE|  60|      12|          5|\n",
      "|     US|  60|       1|          2|\n",
      "|     US|  60|       1|          1|\n",
      "|     US|  60|       7|          2|\n",
      "|     GB|  60|      12|          5|\n",
      "|     US|  60|       2|          1|\n",
      "|     US|  50|       4|          2|\n",
      "+-------+----+--------+-----------+\n",
      "only showing top 20 rows\n",
      "\n"
     ]
    }
   ],
   "source": [
    "df_family_plus.withColumnRenamed('familysize', 'Family Size').show()"
   ]
  },
  {
   "cell_type": "markdown",
   "id": "b1be2766",
   "metadata": {},
   "source": [
    "### Pypark Handle Missing Values\n",
    "- Dropping Columns\n",
    "- Dropping Rows\n",
    "- Various Parameters in Dropping Functionalities\n",
    "- Handling Misisng values by Mean, Median, and Mode"
   ]
  },
  {
   "cell_type": "markdown",
   "id": "b7c756e4",
   "metadata": {},
   "source": [
    "### Drop Columns"
   ]
  },
  {
   "cell_type": "code",
   "execution_count": 118,
   "id": "3739be7b",
   "metadata": {},
   "outputs": [
    {
     "name": "stdout",
     "output_type": "stream",
     "text": [
      "+-------+----+--------+----------+\n",
      "|country|race|religion|familysize|\n",
      "+-------+----+--------+----------+\n",
      "|     IN|  10|      12|         2|\n",
      "|     US|  70|       7|         4|\n",
      "|     PL|  60|       4|         3|\n",
      "|     US|  70|       4|         5|\n",
      "|     MY|  10|      10|         4|\n",
      "|     US|  70|       4|         4|\n",
      "|     MX|  60|       7|         4|\n",
      "|     GB|  60|       2|         2|\n",
      "|     US|  70|      12|         4|\n",
      "|     DE|  60|       2|         3|\n",
      "|     US|  60|       6|         1|\n",
      "|     US|  60|       6|         2|\n",
      "|     US|  60|       1|         2|\n",
      "|     EE|  60|      12|         5|\n",
      "|     US|  60|       1|         2|\n",
      "|     US|  60|       1|         1|\n",
      "|     US|  60|       7|         2|\n",
      "|     GB|  60|      12|         5|\n",
      "|     US|  60|       2|         1|\n",
      "|     US|  50|       4|         2|\n",
      "+-------+----+--------+----------+\n",
      "only showing top 20 rows\n",
      "\n"
     ]
    }
   ],
   "source": [
    "df_ps4.show()"
   ]
  },
  {
   "cell_type": "code",
   "execution_count": 121,
   "id": "a1112073",
   "metadata": {},
   "outputs": [
    {
     "name": "stdout",
     "output_type": "stream",
     "text": [
      "+-------+----+--------+\n",
      "|country|race|religion|\n",
      "+-------+----+--------+\n",
      "|     IN|  10|      12|\n",
      "|     US|  70|       7|\n",
      "|     PL|  60|       4|\n",
      "|     US|  70|       4|\n",
      "|     MY|  10|      10|\n",
      "|     US|  70|       4|\n",
      "|     MX|  60|       7|\n",
      "|     GB|  60|       2|\n",
      "|     US|  70|      12|\n",
      "|     DE|  60|       2|\n",
      "|     US|  60|       6|\n",
      "|     US|  60|       6|\n",
      "|     US|  60|       1|\n",
      "|     EE|  60|      12|\n",
      "|     US|  60|       1|\n",
      "|     US|  60|       1|\n",
      "|     US|  60|       7|\n",
      "|     GB|  60|      12|\n",
      "|     US|  60|       2|\n",
      "|     US|  50|       4|\n",
      "+-------+----+--------+\n",
      "only showing top 20 rows\n",
      "\n"
     ]
    }
   ],
   "source": [
    "df_ps4.drop('familysize').show()"
   ]
  },
  {
   "cell_type": "code",
   "execution_count": 123,
   "id": "d0a471b5",
   "metadata": {},
   "outputs": [
    {
     "name": "stdout",
     "output_type": "stream",
     "text": [
      "+-------+----+--------+----------+\n",
      "|country|race|religion|familysize|\n",
      "+-------+----+--------+----------+\n",
      "|     IN|  10|      12|         2|\n",
      "|     US|  70|       7|         4|\n",
      "|     PL|  60|       4|         3|\n",
      "|     US|  70|       4|         5|\n",
      "|     MY|  10|      10|         4|\n",
      "|     US|  70|       4|         4|\n",
      "|     MX|  60|       7|         4|\n",
      "|     GB|  60|       2|         2|\n",
      "|     US|  70|      12|         4|\n",
      "|     DE|  60|       2|         3|\n",
      "|     US|  60|       6|         1|\n",
      "|     US|  60|       6|         2|\n",
      "|     US|  60|       1|         2|\n",
      "|     EE|  60|      12|         5|\n",
      "|     US|  60|       1|         2|\n",
      "|     US|  60|       1|         1|\n",
      "|     US|  60|       7|         2|\n",
      "|     GB|  60|      12|         5|\n",
      "|     US|  60|       2|         1|\n",
      "|     US|  50|       4|         2|\n",
      "+-------+----+--------+----------+\n",
      "only showing top 20 rows\n",
      "\n"
     ]
    }
   ],
   "source": [
    "df_ps4.show()"
   ]
  },
  {
   "cell_type": "code",
   "execution_count": 126,
   "id": "f8dc69ea",
   "metadata": {},
   "outputs": [
    {
     "name": "stdout",
     "output_type": "stream",
     "text": [
      "+-------+-------+------------------+-----------------+------------------+\n",
      "|summary|country|              race|         religion|        familysize|\n",
      "+-------+-------+------------------+-----------------+------------------+\n",
      "|  count|  39775|             39775|            39775|             39775|\n",
      "|   mean|   null|31.312884978001257|7.555851665619107|3.5102702702702704|\n",
      "| stddev|   null|25.871271749318943|3.554394803590685|2.1415182305409406|\n",
      "|    min|     AE|                10|                0|                 0|\n",
      "|    max|     ZW|                70|               12|               133|\n",
      "+-------+-------+------------------+-----------------+------------------+\n",
      "\n"
     ]
    }
   ],
   "source": [
    "df_ps4.describe().show()"
   ]
  },
  {
   "cell_type": "markdown",
   "id": "c6855d5e",
   "metadata": {},
   "source": [
    "### Drop null rows.\n",
    "- there are no rows in this data set ergo why this is showing"
   ]
  },
  {
   "cell_type": "code",
   "execution_count": 136,
   "id": "112fd04f",
   "metadata": {},
   "outputs": [
    {
     "name": "stdout",
     "output_type": "stream",
     "text": [
      "+-------+-------+------------------+-----------------+------------------+\n",
      "|summary|country|              race|         religion|        familysize|\n",
      "+-------+-------+------------------+-----------------+------------------+\n",
      "|  count|  39775|             39775|            39775|             39775|\n",
      "|   mean|   null|31.312884978001257|7.555851665619107|3.5102702702702704|\n",
      "| stddev|   null|25.871271749318943|3.554394803590685|2.1415182305409406|\n",
      "|    min|     AE|                10|                0|                 0|\n",
      "|    max|     ZW|                70|               12|               133|\n",
      "+-------+-------+------------------+-----------------+------------------+\n",
      "\n"
     ]
    }
   ],
   "source": [
    "df_ps4.na.drop().describe().show()"
   ]
  },
  {
   "cell_type": "code",
   "execution_count": 155,
   "id": "e1259e14",
   "metadata": {},
   "outputs": [],
   "source": [
    "df_p1 = spark.read.csv('data2.csv', inferSchema = True, header = True)"
   ]
  },
  {
   "cell_type": "code",
   "execution_count": 178,
   "id": "ce4bbf37",
   "metadata": {},
   "outputs": [
    {
     "name": "stdout",
     "output_type": "stream",
     "text": [
      "root\n",
      " |-- Name: string (nullable = true)\n",
      " |-- Age: integer (nullable = true)\n",
      " |-- Nationality: string (nullable = true)\n",
      " |-- Gender: integer (nullable = true)\n",
      "\n"
     ]
    }
   ],
   "source": [
    "df_p1.printSchema()"
   ]
  },
  {
   "cell_type": "code",
   "execution_count": 156,
   "id": "77fa016d",
   "metadata": {
    "scrolled": true
   },
   "outputs": [
    {
     "name": "stdout",
     "output_type": "stream",
     "text": [
      "+-------+----+-----------+------+\n",
      "|   Name| Age|Nationality|Gender|\n",
      "+-------+----+-----------+------+\n",
      "|   Sean|  27|        USA|     0|\n",
      "|    Rae|  22|        USA|     1|\n",
      "|   Ryan|  27|        USA|     0|\n",
      "| Joseph|null|        USA|     0|\n",
      "|   Yali|  59|        USA|     1|\n",
      "|Harshit|null|        IND|     0|\n",
      "|  Maria|  24|       null|     1|\n",
      "|   null|  30|       null|  null|\n",
      "+-------+----+-----------+------+\n",
      "\n"
     ]
    }
   ],
   "source": [
    "df_p1.show()"
   ]
  },
  {
   "cell_type": "code",
   "execution_count": 157,
   "id": "9a0cfa88",
   "metadata": {},
   "outputs": [
    {
     "name": "stdout",
     "output_type": "stream",
     "text": [
      "+----+---+-----------+------+\n",
      "|Name|Age|Nationality|Gender|\n",
      "+----+---+-----------+------+\n",
      "|Sean| 27|        USA|     0|\n",
      "| Rae| 22|        USA|     1|\n",
      "|Ryan| 27|        USA|     0|\n",
      "|Yali| 59|        USA|     1|\n",
      "+----+---+-----------+------+\n",
      "\n"
     ]
    }
   ],
   "source": [
    "df_p1.na.drop().show()"
   ]
  },
  {
   "cell_type": "markdown",
   "id": "85c1a337",
   "metadata": {},
   "source": [
    "### dropping with how\n",
    "- any == how\n",
    "- how = 'any' or 'all' where if 'any' value in a row is null, then drop.\n",
    "- 'all' only drop when all values in a row are null\n",
    "- default is any"
   ]
  },
  {
   "cell_type": "code",
   "execution_count": 158,
   "id": "a06f0d31",
   "metadata": {},
   "outputs": [
    {
     "name": "stdout",
     "output_type": "stream",
     "text": [
      "+----+---+-----------+------+\n",
      "|Name|Age|Nationality|Gender|\n",
      "+----+---+-----------+------+\n",
      "|Sean| 27|        USA|     0|\n",
      "| Rae| 22|        USA|     1|\n",
      "|Ryan| 27|        USA|     0|\n",
      "|Yali| 59|        USA|     1|\n",
      "+----+---+-----------+------+\n",
      "\n",
      "+-------+----+-----------+------+\n",
      "|   Name| Age|Nationality|Gender|\n",
      "+-------+----+-----------+------+\n",
      "|   Sean|  27|        USA|     0|\n",
      "|    Rae|  22|        USA|     1|\n",
      "|   Ryan|  27|        USA|     0|\n",
      "| Joseph|null|        USA|     0|\n",
      "|   Yali|  59|        USA|     1|\n",
      "|Harshit|null|        IND|     0|\n",
      "|  Maria|  24|       null|     1|\n",
      "|   null|  30|       null|  null|\n",
      "+-------+----+-----------+------+\n",
      "\n"
     ]
    }
   ],
   "source": [
    "df_p1.na.drop(how = 'any').show()\n",
    "df_p1.na.drop(how = 'all').show()"
   ]
  },
  {
   "cell_type": "markdown",
   "id": "2388a59d",
   "metadata": {},
   "source": [
    "### drop with threshold and 'any'\n",
    "- requires that many none null values, then remove the row \n",
    "- so if there are 4 columns and thresh = 4: there must be 4 none null values ergo the entire row must be none null\n",
    "- if there are 3: there must be at least 3 none null and at most 1 null "
   ]
  },
  {
   "cell_type": "code",
   "execution_count": 159,
   "id": "2ff4ae48",
   "metadata": {},
   "outputs": [
    {
     "name": "stdout",
     "output_type": "stream",
     "text": [
      "+----+---+-----------+------+\n",
      "|Name|Age|Nationality|Gender|\n",
      "+----+---+-----------+------+\n",
      "|Sean| 27|        USA|     0|\n",
      "| Rae| 22|        USA|     1|\n",
      "|Ryan| 27|        USA|     0|\n",
      "|Yali| 59|        USA|     1|\n",
      "+----+---+-----------+------+\n",
      "\n"
     ]
    }
   ],
   "source": [
    "df_p1.na.drop(how = 'any', thresh = 4).show()"
   ]
  },
  {
   "cell_type": "markdown",
   "id": "2ab5b7c7",
   "metadata": {},
   "source": [
    "### subset\n",
    "- ie only drop none values from a specific column\n",
    "- so any rows with a none value in nationaly will be dropped"
   ]
  },
  {
   "cell_type": "code",
   "execution_count": 161,
   "id": "ab7cf9e5",
   "metadata": {},
   "outputs": [
    {
     "name": "stdout",
     "output_type": "stream",
     "text": [
      "+-------+----+-----------+------+\n",
      "|   Name| Age|Nationality|Gender|\n",
      "+-------+----+-----------+------+\n",
      "|   Sean|  27|        USA|     0|\n",
      "|    Rae|  22|        USA|     1|\n",
      "|   Ryan|  27|        USA|     0|\n",
      "| Joseph|null|        USA|     0|\n",
      "|   Yali|  59|        USA|     1|\n",
      "|Harshit|null|        IND|     0|\n",
      "+-------+----+-----------+------+\n",
      "\n"
     ]
    }
   ],
   "source": [
    "df_p1.na.drop(how = 'any', subset = 'nationality').show()"
   ]
  },
  {
   "cell_type": "markdown",
   "id": "088fb309",
   "metadata": {},
   "source": [
    "### Fill Missing Values\n",
    "- huh this only works with Strings cause it didn't fill any integer columns"
   ]
  },
  {
   "cell_type": "code",
   "execution_count": 166,
   "id": "836d7813",
   "metadata": {},
   "outputs": [
    {
     "name": "stdout",
     "output_type": "stream",
     "text": [
      "+-------+----+-----------+------+\n",
      "|   Name| Age|Nationality|Gender|\n",
      "+-------+----+-----------+------+\n",
      "|   Sean|  27|        USA|     0|\n",
      "|    Rae|  22|        USA|     1|\n",
      "|   Ryan|  27|        USA|     0|\n",
      "| Joseph|null|        USA|     0|\n",
      "|   Yali|  59|        USA|     1|\n",
      "|Harshit|null|        IND|     0|\n",
      "|  Maria|  24|       null|     1|\n",
      "|   null|  30|       null|  null|\n",
      "+-------+----+-----------+------+\n",
      "\n",
      "+--------------+----+--------------+------+\n",
      "|          Name| Age|   Nationality|Gender|\n",
      "+--------------+----+--------------+------+\n",
      "|          Sean|  27|           USA|     0|\n",
      "|           Rae|  22|           USA|     1|\n",
      "|          Ryan|  27|           USA|     0|\n",
      "|        Joseph|null|           USA|     0|\n",
      "|          Yali|  59|           USA|     1|\n",
      "|       Harshit|null|           IND|     0|\n",
      "|         Maria|  24|Missing Values|     1|\n",
      "|Missing Values|  30|Missing Values|  null|\n",
      "+--------------+----+--------------+------+\n",
      "\n"
     ]
    }
   ],
   "source": [
    "df_p1.show()\n",
    "df_p1.na.fill('Missing Values').show()"
   ]
  },
  {
   "cell_type": "markdown",
   "id": "62723889",
   "metadata": {},
   "source": [
    "### Fill Missing Value on Specific Subset\n",
    "- but we can supply an int to replace a misisng value in a column of ints"
   ]
  },
  {
   "cell_type": "code",
   "execution_count": 167,
   "id": "6f319fda",
   "metadata": {},
   "outputs": [
    {
     "name": "stdout",
     "output_type": "stream",
     "text": [
      "+-------+----+-----------+------+\n",
      "|   Name| Age|Nationality|Gender|\n",
      "+-------+----+-----------+------+\n",
      "|   Sean|  27|        USA|     0|\n",
      "|    Rae|  22|        USA|     1|\n",
      "|   Ryan|  27|        USA|     0|\n",
      "| Joseph|null|        USA|     0|\n",
      "|   Yali|  59|        USA|     1|\n",
      "|Harshit|null|        IND|     0|\n",
      "|  Maria|  24|       null|     1|\n",
      "|   null|  30|       null|    10|\n",
      "+-------+----+-----------+------+\n",
      "\n"
     ]
    }
   ],
   "source": [
    "df_p1.na.fill(10, 'Gender').show()"
   ]
  },
  {
   "cell_type": "code",
   "execution_count": 169,
   "id": "2314fbeb",
   "metadata": {},
   "outputs": [
    {
     "name": "stdout",
     "output_type": "stream",
     "text": [
      "+-------+----+-----------+------+\n",
      "|   Name| Age|Nationality|Gender|\n",
      "+-------+----+-----------+------+\n",
      "|   Sean|  27|        USA|     0|\n",
      "|    Rae|  22|        USA|     1|\n",
      "|   Ryan|  27|        USA|     0|\n",
      "| Joseph|null|        USA|     0|\n",
      "|   Yali|  59|        USA|     1|\n",
      "|Harshit|null|        IND|     0|\n",
      "|  Maria|  24|       null|     1|\n",
      "|   null|  30|       null|  null|\n",
      "+-------+----+-----------+------+\n",
      "\n"
     ]
    }
   ],
   "source": [
    "df_p1.show()"
   ]
  },
  {
   "cell_type": "markdown",
   "id": "7f2f812f",
   "metadata": {},
   "source": [
    "### Fill Missing Value with Average\n",
    "- gonna use imputer"
   ]
  },
  {
   "cell_type": "code",
   "execution_count": 170,
   "id": "4d9847cb",
   "metadata": {},
   "outputs": [],
   "source": [
    "from pyspark.ml.feature import Imputer"
   ]
  },
  {
   "cell_type": "code",
   "execution_count": 189,
   "id": "380c410e",
   "metadata": {},
   "outputs": [],
   "source": [
    "imputer = Imputer(\n",
    "        inputCols = ['Age'], \n",
    "        outputCols = ['{}_imputed'.format(c) for c in ['Age']]).setStrategy('median')"
   ]
  },
  {
   "cell_type": "code",
   "execution_count": 190,
   "id": "99a24f08",
   "metadata": {},
   "outputs": [
    {
     "name": "stdout",
     "output_type": "stream",
     "text": [
      "+-------+----+-----------+------+-----------+\n",
      "|   Name| Age|Nationality|Gender|Age_imputed|\n",
      "+-------+----+-----------+------+-----------+\n",
      "|   Sean|  27|        USA|     0|         27|\n",
      "|    Rae|  22|        USA|     1|         22|\n",
      "|   Ryan|  27|        USA|     0|         27|\n",
      "| Joseph|null|        USA|     0|         27|\n",
      "|   Yali|  59|        USA|     1|         59|\n",
      "|Harshit|null|        IND|     0|         27|\n",
      "|  Maria|  24|       null|     1|         24|\n",
      "|   null|  30|       null|  null|         30|\n",
      "+-------+----+-----------+------+-----------+\n",
      "\n"
     ]
    }
   ],
   "source": [
    "imputer.fit(df_p1).transform(df_p1).show()"
   ]
  },
  {
   "cell_type": "code",
   "execution_count": null,
   "id": "78f2142c",
   "metadata": {},
   "outputs": [],
   "source": []
  }
 ],
 "metadata": {
  "kernelspec": {
   "display_name": "Python 3 (ipykernel)",
   "language": "python",
   "name": "python3"
  },
  "language_info": {
   "codemirror_mode": {
    "name": "ipython",
    "version": 3
   },
   "file_extension": ".py",
   "mimetype": "text/x-python",
   "name": "python",
   "nbconvert_exporter": "python",
   "pygments_lexer": "ipython3",
   "version": "3.9.6"
  }
 },
 "nbformat": 4,
 "nbformat_minor": 5
}
