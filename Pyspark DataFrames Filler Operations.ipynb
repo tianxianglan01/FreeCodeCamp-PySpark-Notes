{
 "cells": [
  {
   "cell_type": "code",
   "execution_count": 1,
   "id": "21bebcb2",
   "metadata": {},
   "outputs": [],
   "source": [
    "from pyspark.sql import SparkSession"
   ]
  },
  {
   "cell_type": "code",
   "execution_count": 2,
   "id": "d1b4576c",
   "metadata": {},
   "outputs": [],
   "source": [
    "spark = SparkSession.builder.appName('dataframe').getOrCreate()"
   ]
  },
  {
   "cell_type": "code",
   "execution_count": 3,
   "id": "484c9334",
   "metadata": {},
   "outputs": [],
   "source": [
    "df_ps = spark.read.csv('data3.csv', header = True, inferSchema = True)"
   ]
  },
  {
   "cell_type": "code",
   "execution_count": 4,
   "id": "a0809897",
   "metadata": {},
   "outputs": [
    {
     "name": "stdout",
     "output_type": "stream",
     "text": [
      "+-------+----+-----------+------+------+\n",
      "|   Name| Age|Nationality|Gender|Salary|\n",
      "+-------+----+-----------+------+------+\n",
      "|   Sean|  27|        USA|     0| 20000|\n",
      "|    Rae|  22|        USA|     1| 25000|\n",
      "|   Ryan|  27|        USA|     0| 17000|\n",
      "| Joseph|null|        USA|     0| 19000|\n",
      "|   Yali|  59|        USA|     1| 40000|\n",
      "|Harshit|null|        IND|     0| 10000|\n",
      "|  Maria|  24|       null|     1| 14000|\n",
      "|   null|  30|       null|  null|  null|\n",
      "+-------+----+-----------+------+------+\n",
      "\n"
     ]
    }
   ],
   "source": [
    "df_ps.show()"
   ]
  },
  {
   "cell_type": "markdown",
   "id": "dd848fc5",
   "metadata": {},
   "source": [
    "### Filter Operations\n",
    "- find salary of people with <= 10000"
   ]
  },
  {
   "cell_type": "code",
   "execution_count": 6,
   "id": "2c39ebf3",
   "metadata": {},
   "outputs": [
    {
     "name": "stdout",
     "output_type": "stream",
     "text": [
      "+-------+----+-----------+------+------+\n",
      "|   Name| Age|Nationality|Gender|Salary|\n",
      "+-------+----+-----------+------+------+\n",
      "|Harshit|null|        IND|     0| 10000|\n",
      "|  Maria|  24|       null|     1| 14000|\n",
      "+-------+----+-----------+------+------+\n",
      "\n"
     ]
    }
   ],
   "source": [
    "df_ps.filter(\"Salary <= 15000\").show()"
   ]
  },
  {
   "cell_type": "code",
   "execution_count": 10,
   "id": "2a60367c",
   "metadata": {},
   "outputs": [
    {
     "name": "stdout",
     "output_type": "stream",
     "text": [
      "+-------+----+\n",
      "|   Name| age|\n",
      "+-------+----+\n",
      "|   Ryan|  27|\n",
      "|Harshit|null|\n",
      "|  Maria|  24|\n",
      "+-------+----+\n",
      "\n"
     ]
    }
   ],
   "source": [
    "df_ps.filter('Salary <=17000').select(['Name', 'age']).show()"
   ]
  },
  {
   "cell_type": "markdown",
   "id": "c621718b",
   "metadata": {},
   "source": [
    "### another way to filter"
   ]
  },
  {
   "cell_type": "code",
   "execution_count": 9,
   "id": "a0684039",
   "metadata": {},
   "outputs": [
    {
     "name": "stdout",
     "output_type": "stream",
     "text": [
      "+-------+----+-----------+------+------+\n",
      "|   Name| Age|Nationality|Gender|Salary|\n",
      "+-------+----+-----------+------+------+\n",
      "|   Ryan|  27|        USA|     0| 17000|\n",
      "|Harshit|null|        IND|     0| 10000|\n",
      "|  Maria|  24|       null|     1| 14000|\n",
      "+-------+----+-----------+------+------+\n",
      "\n"
     ]
    }
   ],
   "source": [
    "df_ps.filter(df_ps['Salary'] <= 17000).show()"
   ]
  },
  {
   "cell_type": "markdown",
   "id": "873f2a4f",
   "metadata": {},
   "source": [
    "### filter with and"
   ]
  },
  {
   "cell_type": "code",
   "execution_count": 12,
   "id": "aecb47f6",
   "metadata": {},
   "outputs": [
    {
     "name": "stdout",
     "output_type": "stream",
     "text": [
      "+-----+---+-----------+------+------+\n",
      "| Name|Age|Nationality|Gender|Salary|\n",
      "+-----+---+-----------+------+------+\n",
      "| Ryan| 27|        USA|     0| 17000|\n",
      "|Maria| 24|       null|     1| 14000|\n",
      "+-----+---+-----------+------+------+\n",
      "\n"
     ]
    }
   ],
   "source": [
    "df_ps.filter((df_ps['Salary'] <= 17000) & (df_ps['Salary'] > 10000)).show()"
   ]
  },
  {
   "cell_type": "markdown",
   "id": "b0255ab4",
   "metadata": {},
   "source": [
    "### inverse filter"
   ]
  },
  {
   "cell_type": "code",
   "execution_count": 15,
   "id": "f480ddb3",
   "metadata": {},
   "outputs": [
    {
     "name": "stdout",
     "output_type": "stream",
     "text": [
      "+------+----+-----------+------+------+\n",
      "|  Name| Age|Nationality|Gender|Salary|\n",
      "+------+----+-----------+------+------+\n",
      "|  Sean|  27|        USA|     0| 20000|\n",
      "|   Rae|  22|        USA|     1| 25000|\n",
      "|Joseph|null|        USA|     0| 19000|\n",
      "|  Yali|  59|        USA|     1| 40000|\n",
      "+------+----+-----------+------+------+\n",
      "\n"
     ]
    }
   ],
   "source": [
    "df_ps.filter(~(df_ps['Salary'] <= 17000)).show()"
   ]
  },
  {
   "cell_type": "code",
   "execution_count": null,
   "id": "22a39518",
   "metadata": {},
   "outputs": [],
   "source": []
  }
 ],
 "metadata": {
  "kernelspec": {
   "display_name": "Python 3 (ipykernel)",
   "language": "python",
   "name": "python3"
  },
  "language_info": {
   "codemirror_mode": {
    "name": "ipython",
    "version": 3
   },
   "file_extension": ".py",
   "mimetype": "text/x-python",
   "name": "python",
   "nbconvert_exporter": "python",
   "pygments_lexer": "ipython3",
   "version": "3.9.6"
  }
 },
 "nbformat": 4,
 "nbformat_minor": 5
}
